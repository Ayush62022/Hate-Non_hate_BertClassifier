{
  "nbformat": 4,
  "nbformat_minor": 0,
  "metadata": {
    "colab": {
      "provenance": [],
      "gpuType": "T4"
    },
    "kernelspec": {
      "name": "python3",
      "display_name": "Python 3"
    },
    "language_info": {
      "name": "python"
    },
    "accelerator": "GPU",
    "widgets": {
      "application/vnd.jupyter.widget-state+json": {
        "fdf379a24e004fa3bdbda9891d9fed56": {
          "model_module": "@jupyter-widgets/controls",
          "model_name": "HBoxModel",
          "model_module_version": "1.5.0",
          "state": {
            "_dom_classes": [],
            "_model_module": "@jupyter-widgets/controls",
            "_model_module_version": "1.5.0",
            "_model_name": "HBoxModel",
            "_view_count": null,
            "_view_module": "@jupyter-widgets/controls",
            "_view_module_version": "1.5.0",
            "_view_name": "HBoxView",
            "box_style": "",
            "children": [
              "IPY_MODEL_6c9f4e402bdd4c46b7434d557c227af2",
              "IPY_MODEL_8f05e7115f0548be9ebeb045d9fe6c0c",
              "IPY_MODEL_7e525d05148648619013df74380a9c07"
            ],
            "layout": "IPY_MODEL_d24f99a2e53f47aea584dde0853cf77e"
          }
        },
        "6c9f4e402bdd4c46b7434d557c227af2": {
          "model_module": "@jupyter-widgets/controls",
          "model_name": "HTMLModel",
          "model_module_version": "1.5.0",
          "state": {
            "_dom_classes": [],
            "_model_module": "@jupyter-widgets/controls",
            "_model_module_version": "1.5.0",
            "_model_name": "HTMLModel",
            "_view_count": null,
            "_view_module": "@jupyter-widgets/controls",
            "_view_module_version": "1.5.0",
            "_view_name": "HTMLView",
            "description": "",
            "description_tooltip": null,
            "layout": "IPY_MODEL_23aea5da0e5544eaa793730220e8213c",
            "placeholder": "​",
            "style": "IPY_MODEL_e95dc5a6e6d441dea680fa0b04e91ee9",
            "value": "model.safetensors: 100%"
          }
        },
        "8f05e7115f0548be9ebeb045d9fe6c0c": {
          "model_module": "@jupyter-widgets/controls",
          "model_name": "FloatProgressModel",
          "model_module_version": "1.5.0",
          "state": {
            "_dom_classes": [],
            "_model_module": "@jupyter-widgets/controls",
            "_model_module_version": "1.5.0",
            "_model_name": "FloatProgressModel",
            "_view_count": null,
            "_view_module": "@jupyter-widgets/controls",
            "_view_module_version": "1.5.0",
            "_view_name": "ProgressView",
            "bar_style": "success",
            "description": "",
            "description_tooltip": null,
            "layout": "IPY_MODEL_622a5cf22095453fa4936da13c99abef",
            "max": 714290682,
            "min": 0,
            "orientation": "horizontal",
            "style": "IPY_MODEL_e3697c48d6fb4d698f4af9f3ebb0f4d1",
            "value": 714290682
          }
        },
        "7e525d05148648619013df74380a9c07": {
          "model_module": "@jupyter-widgets/controls",
          "model_name": "HTMLModel",
          "model_module_version": "1.5.0",
          "state": {
            "_dom_classes": [],
            "_model_module": "@jupyter-widgets/controls",
            "_model_module_version": "1.5.0",
            "_model_name": "HTMLModel",
            "_view_count": null,
            "_view_module": "@jupyter-widgets/controls",
            "_view_module_version": "1.5.0",
            "_view_name": "HTMLView",
            "description": "",
            "description_tooltip": null,
            "layout": "IPY_MODEL_d3eb4de8832f4f8aadd2231d8f36a16a",
            "placeholder": "​",
            "style": "IPY_MODEL_f95f0f0ae8584ad0b5163167e5d5249f",
            "value": " 714M/714M [00:10&lt;00:00, 75.9MB/s]"
          }
        },
        "d24f99a2e53f47aea584dde0853cf77e": {
          "model_module": "@jupyter-widgets/base",
          "model_name": "LayoutModel",
          "model_module_version": "1.2.0",
          "state": {
            "_model_module": "@jupyter-widgets/base",
            "_model_module_version": "1.2.0",
            "_model_name": "LayoutModel",
            "_view_count": null,
            "_view_module": "@jupyter-widgets/base",
            "_view_module_version": "1.2.0",
            "_view_name": "LayoutView",
            "align_content": null,
            "align_items": null,
            "align_self": null,
            "border": null,
            "bottom": null,
            "display": null,
            "flex": null,
            "flex_flow": null,
            "grid_area": null,
            "grid_auto_columns": null,
            "grid_auto_flow": null,
            "grid_auto_rows": null,
            "grid_column": null,
            "grid_gap": null,
            "grid_row": null,
            "grid_template_areas": null,
            "grid_template_columns": null,
            "grid_template_rows": null,
            "height": null,
            "justify_content": null,
            "justify_items": null,
            "left": null,
            "margin": null,
            "max_height": null,
            "max_width": null,
            "min_height": null,
            "min_width": null,
            "object_fit": null,
            "object_position": null,
            "order": null,
            "overflow": null,
            "overflow_x": null,
            "overflow_y": null,
            "padding": null,
            "right": null,
            "top": null,
            "visibility": null,
            "width": null
          }
        },
        "23aea5da0e5544eaa793730220e8213c": {
          "model_module": "@jupyter-widgets/base",
          "model_name": "LayoutModel",
          "model_module_version": "1.2.0",
          "state": {
            "_model_module": "@jupyter-widgets/base",
            "_model_module_version": "1.2.0",
            "_model_name": "LayoutModel",
            "_view_count": null,
            "_view_module": "@jupyter-widgets/base",
            "_view_module_version": "1.2.0",
            "_view_name": "LayoutView",
            "align_content": null,
            "align_items": null,
            "align_self": null,
            "border": null,
            "bottom": null,
            "display": null,
            "flex": null,
            "flex_flow": null,
            "grid_area": null,
            "grid_auto_columns": null,
            "grid_auto_flow": null,
            "grid_auto_rows": null,
            "grid_column": null,
            "grid_gap": null,
            "grid_row": null,
            "grid_template_areas": null,
            "grid_template_columns": null,
            "grid_template_rows": null,
            "height": null,
            "justify_content": null,
            "justify_items": null,
            "left": null,
            "margin": null,
            "max_height": null,
            "max_width": null,
            "min_height": null,
            "min_width": null,
            "object_fit": null,
            "object_position": null,
            "order": null,
            "overflow": null,
            "overflow_x": null,
            "overflow_y": null,
            "padding": null,
            "right": null,
            "top": null,
            "visibility": null,
            "width": null
          }
        },
        "e95dc5a6e6d441dea680fa0b04e91ee9": {
          "model_module": "@jupyter-widgets/controls",
          "model_name": "DescriptionStyleModel",
          "model_module_version": "1.5.0",
          "state": {
            "_model_module": "@jupyter-widgets/controls",
            "_model_module_version": "1.5.0",
            "_model_name": "DescriptionStyleModel",
            "_view_count": null,
            "_view_module": "@jupyter-widgets/base",
            "_view_module_version": "1.2.0",
            "_view_name": "StyleView",
            "description_width": ""
          }
        },
        "622a5cf22095453fa4936da13c99abef": {
          "model_module": "@jupyter-widgets/base",
          "model_name": "LayoutModel",
          "model_module_version": "1.2.0",
          "state": {
            "_model_module": "@jupyter-widgets/base",
            "_model_module_version": "1.2.0",
            "_model_name": "LayoutModel",
            "_view_count": null,
            "_view_module": "@jupyter-widgets/base",
            "_view_module_version": "1.2.0",
            "_view_name": "LayoutView",
            "align_content": null,
            "align_items": null,
            "align_self": null,
            "border": null,
            "bottom": null,
            "display": null,
            "flex": null,
            "flex_flow": null,
            "grid_area": null,
            "grid_auto_columns": null,
            "grid_auto_flow": null,
            "grid_auto_rows": null,
            "grid_column": null,
            "grid_gap": null,
            "grid_row": null,
            "grid_template_areas": null,
            "grid_template_columns": null,
            "grid_template_rows": null,
            "height": null,
            "justify_content": null,
            "justify_items": null,
            "left": null,
            "margin": null,
            "max_height": null,
            "max_width": null,
            "min_height": null,
            "min_width": null,
            "object_fit": null,
            "object_position": null,
            "order": null,
            "overflow": null,
            "overflow_x": null,
            "overflow_y": null,
            "padding": null,
            "right": null,
            "top": null,
            "visibility": null,
            "width": null
          }
        },
        "e3697c48d6fb4d698f4af9f3ebb0f4d1": {
          "model_module": "@jupyter-widgets/controls",
          "model_name": "ProgressStyleModel",
          "model_module_version": "1.5.0",
          "state": {
            "_model_module": "@jupyter-widgets/controls",
            "_model_module_version": "1.5.0",
            "_model_name": "ProgressStyleModel",
            "_view_count": null,
            "_view_module": "@jupyter-widgets/base",
            "_view_module_version": "1.2.0",
            "_view_name": "StyleView",
            "bar_color": null,
            "description_width": ""
          }
        },
        "d3eb4de8832f4f8aadd2231d8f36a16a": {
          "model_module": "@jupyter-widgets/base",
          "model_name": "LayoutModel",
          "model_module_version": "1.2.0",
          "state": {
            "_model_module": "@jupyter-widgets/base",
            "_model_module_version": "1.2.0",
            "_model_name": "LayoutModel",
            "_view_count": null,
            "_view_module": "@jupyter-widgets/base",
            "_view_module_version": "1.2.0",
            "_view_name": "LayoutView",
            "align_content": null,
            "align_items": null,
            "align_self": null,
            "border": null,
            "bottom": null,
            "display": null,
            "flex": null,
            "flex_flow": null,
            "grid_area": null,
            "grid_auto_columns": null,
            "grid_auto_flow": null,
            "grid_auto_rows": null,
            "grid_column": null,
            "grid_gap": null,
            "grid_row": null,
            "grid_template_areas": null,
            "grid_template_columns": null,
            "grid_template_rows": null,
            "height": null,
            "justify_content": null,
            "justify_items": null,
            "left": null,
            "margin": null,
            "max_height": null,
            "max_width": null,
            "min_height": null,
            "min_width": null,
            "object_fit": null,
            "object_position": null,
            "order": null,
            "overflow": null,
            "overflow_x": null,
            "overflow_y": null,
            "padding": null,
            "right": null,
            "top": null,
            "visibility": null,
            "width": null
          }
        },
        "f95f0f0ae8584ad0b5163167e5d5249f": {
          "model_module": "@jupyter-widgets/controls",
          "model_name": "DescriptionStyleModel",
          "model_module_version": "1.5.0",
          "state": {
            "_model_module": "@jupyter-widgets/controls",
            "_model_module_version": "1.5.0",
            "_model_name": "DescriptionStyleModel",
            "_view_count": null,
            "_view_module": "@jupyter-widgets/base",
            "_view_module_version": "1.2.0",
            "_view_name": "StyleView",
            "description_width": ""
          }
        }
      }
    }
  },
  "cells": [
    {
      "cell_type": "code",
      "execution_count": null,
      "metadata": {
        "colab": {
          "base_uri": "https://localhost:8080/"
        },
        "id": "5A-UBtWUIgkl",
        "outputId": "2f07e03a-a36d-496f-95d3-0ce88ff39c6b"
      },
      "outputs": [
        {
          "output_type": "stream",
          "name": "stdout",
          "text": [
            "Requirement already satisfied: transformers in /usr/local/lib/python3.10/dist-packages (4.38.2)\n",
            "Requirement already satisfied: pandas in /usr/local/lib/python3.10/dist-packages (2.0.3)\n",
            "Requirement already satisfied: numpy in /usr/local/lib/python3.10/dist-packages (1.25.2)\n",
            "Requirement already satisfied: torch in /usr/local/lib/python3.10/dist-packages (2.2.1+cu121)\n",
            "Requirement already satisfied: scikit-learn in /usr/local/lib/python3.10/dist-packages (1.2.2)\n",
            "Requirement already satisfied: filelock in /usr/local/lib/python3.10/dist-packages (from transformers) (3.13.3)\n",
            "Requirement already satisfied: huggingface-hub<1.0,>=0.19.3 in /usr/local/lib/python3.10/dist-packages (from transformers) (0.20.3)\n",
            "Requirement already satisfied: packaging>=20.0 in /usr/local/lib/python3.10/dist-packages (from transformers) (24.0)\n",
            "Requirement already satisfied: pyyaml>=5.1 in /usr/local/lib/python3.10/dist-packages (from transformers) (6.0.1)\n",
            "Requirement already satisfied: regex!=2019.12.17 in /usr/local/lib/python3.10/dist-packages (from transformers) (2023.12.25)\n",
            "Requirement already satisfied: requests in /usr/local/lib/python3.10/dist-packages (from transformers) (2.31.0)\n",
            "Requirement already satisfied: tokenizers<0.19,>=0.14 in /usr/local/lib/python3.10/dist-packages (from transformers) (0.15.2)\n",
            "Requirement already satisfied: safetensors>=0.4.1 in /usr/local/lib/python3.10/dist-packages (from transformers) (0.4.2)\n",
            "Requirement already satisfied: tqdm>=4.27 in /usr/local/lib/python3.10/dist-packages (from transformers) (4.66.2)\n",
            "Requirement already satisfied: python-dateutil>=2.8.2 in /usr/local/lib/python3.10/dist-packages (from pandas) (2.8.2)\n",
            "Requirement already satisfied: pytz>=2020.1 in /usr/local/lib/python3.10/dist-packages (from pandas) (2023.4)\n",
            "Requirement already satisfied: tzdata>=2022.1 in /usr/local/lib/python3.10/dist-packages (from pandas) (2024.1)\n",
            "Requirement already satisfied: typing-extensions>=4.8.0 in /usr/local/lib/python3.10/dist-packages (from torch) (4.10.0)\n",
            "Requirement already satisfied: sympy in /usr/local/lib/python3.10/dist-packages (from torch) (1.12)\n",
            "Requirement already satisfied: networkx in /usr/local/lib/python3.10/dist-packages (from torch) (3.2.1)\n",
            "Requirement already satisfied: jinja2 in /usr/local/lib/python3.10/dist-packages (from torch) (3.1.3)\n",
            "Requirement already satisfied: fsspec in /usr/local/lib/python3.10/dist-packages (from torch) (2023.6.0)\n",
            "Requirement already satisfied: nvidia-cuda-nvrtc-cu12==12.1.105 in /usr/local/lib/python3.10/dist-packages (from torch) (12.1.105)\n",
            "Requirement already satisfied: nvidia-cuda-runtime-cu12==12.1.105 in /usr/local/lib/python3.10/dist-packages (from torch) (12.1.105)\n",
            "Requirement already satisfied: nvidia-cuda-cupti-cu12==12.1.105 in /usr/local/lib/python3.10/dist-packages (from torch) (12.1.105)\n",
            "Requirement already satisfied: nvidia-cudnn-cu12==8.9.2.26 in /usr/local/lib/python3.10/dist-packages (from torch) (8.9.2.26)\n",
            "Requirement already satisfied: nvidia-cublas-cu12==12.1.3.1 in /usr/local/lib/python3.10/dist-packages (from torch) (12.1.3.1)\n",
            "Requirement already satisfied: nvidia-cufft-cu12==11.0.2.54 in /usr/local/lib/python3.10/dist-packages (from torch) (11.0.2.54)\n",
            "Requirement already satisfied: nvidia-curand-cu12==10.3.2.106 in /usr/local/lib/python3.10/dist-packages (from torch) (10.3.2.106)\n",
            "Requirement already satisfied: nvidia-cusolver-cu12==11.4.5.107 in /usr/local/lib/python3.10/dist-packages (from torch) (11.4.5.107)\n",
            "Requirement already satisfied: nvidia-cusparse-cu12==12.1.0.106 in /usr/local/lib/python3.10/dist-packages (from torch) (12.1.0.106)\n",
            "Requirement already satisfied: nvidia-nccl-cu12==2.19.3 in /usr/local/lib/python3.10/dist-packages (from torch) (2.19.3)\n",
            "Requirement already satisfied: nvidia-nvtx-cu12==12.1.105 in /usr/local/lib/python3.10/dist-packages (from torch) (12.1.105)\n",
            "Requirement already satisfied: triton==2.2.0 in /usr/local/lib/python3.10/dist-packages (from torch) (2.2.0)\n",
            "Requirement already satisfied: nvidia-nvjitlink-cu12 in /usr/local/lib/python3.10/dist-packages (from nvidia-cusolver-cu12==11.4.5.107->torch) (12.4.127)\n",
            "Requirement already satisfied: scipy>=1.3.2 in /usr/local/lib/python3.10/dist-packages (from scikit-learn) (1.11.4)\n",
            "Requirement already satisfied: joblib>=1.1.1 in /usr/local/lib/python3.10/dist-packages (from scikit-learn) (1.3.2)\n",
            "Requirement already satisfied: threadpoolctl>=2.0.0 in /usr/local/lib/python3.10/dist-packages (from scikit-learn) (3.4.0)\n",
            "Requirement already satisfied: six>=1.5 in /usr/local/lib/python3.10/dist-packages (from python-dateutil>=2.8.2->pandas) (1.16.0)\n",
            "Requirement already satisfied: MarkupSafe>=2.0 in /usr/local/lib/python3.10/dist-packages (from jinja2->torch) (2.1.5)\n",
            "Requirement already satisfied: charset-normalizer<4,>=2 in /usr/local/lib/python3.10/dist-packages (from requests->transformers) (3.3.2)\n",
            "Requirement already satisfied: idna<4,>=2.5 in /usr/local/lib/python3.10/dist-packages (from requests->transformers) (3.6)\n",
            "Requirement already satisfied: urllib3<3,>=1.21.1 in /usr/local/lib/python3.10/dist-packages (from requests->transformers) (2.0.7)\n",
            "Requirement already satisfied: certifi>=2017.4.17 in /usr/local/lib/python3.10/dist-packages (from requests->transformers) (2024.2.2)\n",
            "Requirement already satisfied: mpmath>=0.19 in /usr/local/lib/python3.10/dist-packages (from sympy->torch) (1.3.0)\n"
          ]
        }
      ],
      "source": [
        "!pip install transformers pandas numpy torch scikit-learn\n"
      ]
    },
    {
      "cell_type": "code",
      "source": [
        "## Import Depandencies"
      ],
      "metadata": {
        "id": "z4Ki01ujs_lG"
      },
      "execution_count": 1,
      "outputs": []
    },
    {
      "cell_type": "markdown",
      "source": [
        "## Import Dependencies"
      ],
      "metadata": {
        "id": "NM-eGI3RtFU4"
      }
    },
    {
      "cell_type": "code",
      "source": [
        "import pandas as pd\n",
        "import numpy as np\n",
        "from sklearn.model_selection import train_test_split\n",
        "from transformers import BertTokenizer, BertForSequenceClassification, AdamW, get_linear_schedule_with_warmup\n",
        "import torch\n",
        "from torch.utils.data import TensorDataset, DataLoader, RandomSampler, SequentialSampler\n"
      ],
      "metadata": {
        "id": "DSoj73DvIrU8"
      },
      "execution_count": null,
      "outputs": []
    },
    {
      "cell_type": "markdown",
      "source": [
        "## Step 1: Load Data"
      ],
      "metadata": {
        "id": "qPtJhf0xtJwO"
      }
    },
    {
      "cell_type": "code",
      "source": [
        "# Load the dataset\n",
        "df = pd.read_csv('/content/mismatch_data - Sheet1 (1).csv', encoding='utf-8')\n",
        "\n",
        "\n"
      ],
      "metadata": {
        "id": "tezQfGYBJP3c"
      },
      "execution_count": null,
      "outputs": []
    },
    {
      "cell_type": "code",
      "source": [
        "\n",
        "df"
      ],
      "metadata": {
        "colab": {
          "base_uri": "https://localhost:8080/",
          "height": 423
        },
        "id": "0gJ6ZBI2M7pR",
        "outputId": "52ddd90f-7801-4ae9-a29f-326ff034f931"
      },
      "execution_count": null,
      "outputs": [
        {
          "output_type": "execute_result",
          "data": {
            "text/plain": [
              "                                                  Text label Unnamed: 2  \\\n",
              "0                                      চাল্লা কি মানুহ     1        NaN   \n",
              "1    নাটক কৰিবলৈ স্থান নাইপোৱা চাগে.........মুঠতে চ...     1        NaN   \n",
              "2    আপোনালোকে বহিঃৰাইজত গৈ কি ভাষা মাতিবলগীয়া হয়...     1        NaN   \n",
              "3    অসমত কিমান জনে চাকৰি পাইছে।।যি কেইটামান ওলাই চ...     1        NaN   \n",
              "4    আমি যেতিয়া অসমীয়া মাধ্যমত শিক্ষা লৈছিলোঁ তেত...     1        NaN   \n",
              "..                                                 ...   ...        ...   \n",
              "131  ।।। ঘেণ্টা!!!\\n তই সাধাৰণ VCD এখনৰ নৃত্য পৰিচা...     1        NaN   \n",
              "132  .নাৰীয়েই মেকআপ কৰিব লৰাই তো লিপষ্টিক কাজল লগাই...     1        NaN   \n",
              "133  তোমাৰ মা ও হয় তো প্রসাধনৰ নামত কিবা অলপ সালনিহ...     1        NaN   \n",
              "134  সিহঁত \"social servant\" হে। তাৰ বাহিৰে বেলেগ এক...     0        NaN   \n",
              "135  enjoy কৰিবি তহঁতি।তুৰ মতলব ভালকৈয়ে গম পালো।মত...     0        NaN   \n",
              "\n",
              "    Unnamed: 3  \n",
              "0          NaN  \n",
              "1          NaN  \n",
              "2          NaN  \n",
              "3          NaN  \n",
              "4          NaN  \n",
              "..         ...  \n",
              "131        NaN  \n",
              "132        NaN  \n",
              "133        NaN  \n",
              "134        NaN  \n",
              "135        NaN  \n",
              "\n",
              "[136 rows x 4 columns]"
            ],
            "text/html": [
              "\n",
              "  <div id=\"df-ddc2d2f8-3b54-4da0-aa48-3a4f0a6ff5c9\" class=\"colab-df-container\">\n",
              "    <div>\n",
              "<style scoped>\n",
              "    .dataframe tbody tr th:only-of-type {\n",
              "        vertical-align: middle;\n",
              "    }\n",
              "\n",
              "    .dataframe tbody tr th {\n",
              "        vertical-align: top;\n",
              "    }\n",
              "\n",
              "    .dataframe thead th {\n",
              "        text-align: right;\n",
              "    }\n",
              "</style>\n",
              "<table border=\"1\" class=\"dataframe\">\n",
              "  <thead>\n",
              "    <tr style=\"text-align: right;\">\n",
              "      <th></th>\n",
              "      <th>Text</th>\n",
              "      <th>label</th>\n",
              "      <th>Unnamed: 2</th>\n",
              "      <th>Unnamed: 3</th>\n",
              "    </tr>\n",
              "  </thead>\n",
              "  <tbody>\n",
              "    <tr>\n",
              "      <th>0</th>\n",
              "      <td>চাল্লা কি মানুহ</td>\n",
              "      <td>1</td>\n",
              "      <td>NaN</td>\n",
              "      <td>NaN</td>\n",
              "    </tr>\n",
              "    <tr>\n",
              "      <th>1</th>\n",
              "      <td>নাটক কৰিবলৈ স্থান নাইপোৱা চাগে.........মুঠতে চ...</td>\n",
              "      <td>1</td>\n",
              "      <td>NaN</td>\n",
              "      <td>NaN</td>\n",
              "    </tr>\n",
              "    <tr>\n",
              "      <th>2</th>\n",
              "      <td>আপোনালোকে বহিঃৰাইজত গৈ কি ভাষা মাতিবলগীয়া হয়...</td>\n",
              "      <td>1</td>\n",
              "      <td>NaN</td>\n",
              "      <td>NaN</td>\n",
              "    </tr>\n",
              "    <tr>\n",
              "      <th>3</th>\n",
              "      <td>অসমত কিমান জনে চাকৰি পাইছে।।যি কেইটামান ওলাই চ...</td>\n",
              "      <td>1</td>\n",
              "      <td>NaN</td>\n",
              "      <td>NaN</td>\n",
              "    </tr>\n",
              "    <tr>\n",
              "      <th>4</th>\n",
              "      <td>আমি যেতিয়া অসমীয়া মাধ্যমত শিক্ষা লৈছিলোঁ তেত...</td>\n",
              "      <td>1</td>\n",
              "      <td>NaN</td>\n",
              "      <td>NaN</td>\n",
              "    </tr>\n",
              "    <tr>\n",
              "      <th>...</th>\n",
              "      <td>...</td>\n",
              "      <td>...</td>\n",
              "      <td>...</td>\n",
              "      <td>...</td>\n",
              "    </tr>\n",
              "    <tr>\n",
              "      <th>131</th>\n",
              "      <td>।।। ঘেণ্টা!!!\\n তই সাধাৰণ VCD এখনৰ নৃত্য পৰিচা...</td>\n",
              "      <td>1</td>\n",
              "      <td>NaN</td>\n",
              "      <td>NaN</td>\n",
              "    </tr>\n",
              "    <tr>\n",
              "      <th>132</th>\n",
              "      <td>.নাৰীয়েই মেকআপ কৰিব লৰাই তো লিপষ্টিক কাজল লগাই...</td>\n",
              "      <td>1</td>\n",
              "      <td>NaN</td>\n",
              "      <td>NaN</td>\n",
              "    </tr>\n",
              "    <tr>\n",
              "      <th>133</th>\n",
              "      <td>তোমাৰ মা ও হয় তো প্রসাধনৰ নামত কিবা অলপ সালনিহ...</td>\n",
              "      <td>1</td>\n",
              "      <td>NaN</td>\n",
              "      <td>NaN</td>\n",
              "    </tr>\n",
              "    <tr>\n",
              "      <th>134</th>\n",
              "      <td>সিহঁত \"social servant\" হে। তাৰ বাহিৰে বেলেগ এক...</td>\n",
              "      <td>0</td>\n",
              "      <td>NaN</td>\n",
              "      <td>NaN</td>\n",
              "    </tr>\n",
              "    <tr>\n",
              "      <th>135</th>\n",
              "      <td>enjoy কৰিবি তহঁতি।তুৰ মতলব ভালকৈয়ে গম পালো।মত...</td>\n",
              "      <td>0</td>\n",
              "      <td>NaN</td>\n",
              "      <td>NaN</td>\n",
              "    </tr>\n",
              "  </tbody>\n",
              "</table>\n",
              "<p>136 rows × 4 columns</p>\n",
              "</div>\n",
              "    <div class=\"colab-df-buttons\">\n",
              "\n",
              "  <div class=\"colab-df-container\">\n",
              "    <button class=\"colab-df-convert\" onclick=\"convertToInteractive('df-ddc2d2f8-3b54-4da0-aa48-3a4f0a6ff5c9')\"\n",
              "            title=\"Convert this dataframe to an interactive table.\"\n",
              "            style=\"display:none;\">\n",
              "\n",
              "  <svg xmlns=\"http://www.w3.org/2000/svg\" height=\"24px\" viewBox=\"0 -960 960 960\">\n",
              "    <path d=\"M120-120v-720h720v720H120Zm60-500h600v-160H180v160Zm220 220h160v-160H400v160Zm0 220h160v-160H400v160ZM180-400h160v-160H180v160Zm440 0h160v-160H620v160ZM180-180h160v-160H180v160Zm440 0h160v-160H620v160Z\"/>\n",
              "  </svg>\n",
              "    </button>\n",
              "\n",
              "  <style>\n",
              "    .colab-df-container {\n",
              "      display:flex;\n",
              "      gap: 12px;\n",
              "    }\n",
              "\n",
              "    .colab-df-convert {\n",
              "      background-color: #E8F0FE;\n",
              "      border: none;\n",
              "      border-radius: 50%;\n",
              "      cursor: pointer;\n",
              "      display: none;\n",
              "      fill: #1967D2;\n",
              "      height: 32px;\n",
              "      padding: 0 0 0 0;\n",
              "      width: 32px;\n",
              "    }\n",
              "\n",
              "    .colab-df-convert:hover {\n",
              "      background-color: #E2EBFA;\n",
              "      box-shadow: 0px 1px 2px rgba(60, 64, 67, 0.3), 0px 1px 3px 1px rgba(60, 64, 67, 0.15);\n",
              "      fill: #174EA6;\n",
              "    }\n",
              "\n",
              "    .colab-df-buttons div {\n",
              "      margin-bottom: 4px;\n",
              "    }\n",
              "\n",
              "    [theme=dark] .colab-df-convert {\n",
              "      background-color: #3B4455;\n",
              "      fill: #D2E3FC;\n",
              "    }\n",
              "\n",
              "    [theme=dark] .colab-df-convert:hover {\n",
              "      background-color: #434B5C;\n",
              "      box-shadow: 0px 1px 3px 1px rgba(0, 0, 0, 0.15);\n",
              "      filter: drop-shadow(0px 1px 2px rgba(0, 0, 0, 0.3));\n",
              "      fill: #FFFFFF;\n",
              "    }\n",
              "  </style>\n",
              "\n",
              "    <script>\n",
              "      const buttonEl =\n",
              "        document.querySelector('#df-ddc2d2f8-3b54-4da0-aa48-3a4f0a6ff5c9 button.colab-df-convert');\n",
              "      buttonEl.style.display =\n",
              "        google.colab.kernel.accessAllowed ? 'block' : 'none';\n",
              "\n",
              "      async function convertToInteractive(key) {\n",
              "        const element = document.querySelector('#df-ddc2d2f8-3b54-4da0-aa48-3a4f0a6ff5c9');\n",
              "        const dataTable =\n",
              "          await google.colab.kernel.invokeFunction('convertToInteractive',\n",
              "                                                    [key], {});\n",
              "        if (!dataTable) return;\n",
              "\n",
              "        const docLinkHtml = 'Like what you see? Visit the ' +\n",
              "          '<a target=\"_blank\" href=https://colab.research.google.com/notebooks/data_table.ipynb>data table notebook</a>'\n",
              "          + ' to learn more about interactive tables.';\n",
              "        element.innerHTML = '';\n",
              "        dataTable['output_type'] = 'display_data';\n",
              "        await google.colab.output.renderOutput(dataTable, element);\n",
              "        const docLink = document.createElement('div');\n",
              "        docLink.innerHTML = docLinkHtml;\n",
              "        element.appendChild(docLink);\n",
              "      }\n",
              "    </script>\n",
              "  </div>\n",
              "\n",
              "\n",
              "<div id=\"df-260492bc-7f0f-4985-a1ce-55d6c076074d\">\n",
              "  <button class=\"colab-df-quickchart\" onclick=\"quickchart('df-260492bc-7f0f-4985-a1ce-55d6c076074d')\"\n",
              "            title=\"Suggest charts\"\n",
              "            style=\"display:none;\">\n",
              "\n",
              "<svg xmlns=\"http://www.w3.org/2000/svg\" height=\"24px\"viewBox=\"0 0 24 24\"\n",
              "     width=\"24px\">\n",
              "    <g>\n",
              "        <path d=\"M19 3H5c-1.1 0-2 .9-2 2v14c0 1.1.9 2 2 2h14c1.1 0 2-.9 2-2V5c0-1.1-.9-2-2-2zM9 17H7v-7h2v7zm4 0h-2V7h2v10zm4 0h-2v-4h2v4z\"/>\n",
              "    </g>\n",
              "</svg>\n",
              "  </button>\n",
              "\n",
              "<style>\n",
              "  .colab-df-quickchart {\n",
              "      --bg-color: #E8F0FE;\n",
              "      --fill-color: #1967D2;\n",
              "      --hover-bg-color: #E2EBFA;\n",
              "      --hover-fill-color: #174EA6;\n",
              "      --disabled-fill-color: #AAA;\n",
              "      --disabled-bg-color: #DDD;\n",
              "  }\n",
              "\n",
              "  [theme=dark] .colab-df-quickchart {\n",
              "      --bg-color: #3B4455;\n",
              "      --fill-color: #D2E3FC;\n",
              "      --hover-bg-color: #434B5C;\n",
              "      --hover-fill-color: #FFFFFF;\n",
              "      --disabled-bg-color: #3B4455;\n",
              "      --disabled-fill-color: #666;\n",
              "  }\n",
              "\n",
              "  .colab-df-quickchart {\n",
              "    background-color: var(--bg-color);\n",
              "    border: none;\n",
              "    border-radius: 50%;\n",
              "    cursor: pointer;\n",
              "    display: none;\n",
              "    fill: var(--fill-color);\n",
              "    height: 32px;\n",
              "    padding: 0;\n",
              "    width: 32px;\n",
              "  }\n",
              "\n",
              "  .colab-df-quickchart:hover {\n",
              "    background-color: var(--hover-bg-color);\n",
              "    box-shadow: 0 1px 2px rgba(60, 64, 67, 0.3), 0 1px 3px 1px rgba(60, 64, 67, 0.15);\n",
              "    fill: var(--button-hover-fill-color);\n",
              "  }\n",
              "\n",
              "  .colab-df-quickchart-complete:disabled,\n",
              "  .colab-df-quickchart-complete:disabled:hover {\n",
              "    background-color: var(--disabled-bg-color);\n",
              "    fill: var(--disabled-fill-color);\n",
              "    box-shadow: none;\n",
              "  }\n",
              "\n",
              "  .colab-df-spinner {\n",
              "    border: 2px solid var(--fill-color);\n",
              "    border-color: transparent;\n",
              "    border-bottom-color: var(--fill-color);\n",
              "    animation:\n",
              "      spin 1s steps(1) infinite;\n",
              "  }\n",
              "\n",
              "  @keyframes spin {\n",
              "    0% {\n",
              "      border-color: transparent;\n",
              "      border-bottom-color: var(--fill-color);\n",
              "      border-left-color: var(--fill-color);\n",
              "    }\n",
              "    20% {\n",
              "      border-color: transparent;\n",
              "      border-left-color: var(--fill-color);\n",
              "      border-top-color: var(--fill-color);\n",
              "    }\n",
              "    30% {\n",
              "      border-color: transparent;\n",
              "      border-left-color: var(--fill-color);\n",
              "      border-top-color: var(--fill-color);\n",
              "      border-right-color: var(--fill-color);\n",
              "    }\n",
              "    40% {\n",
              "      border-color: transparent;\n",
              "      border-right-color: var(--fill-color);\n",
              "      border-top-color: var(--fill-color);\n",
              "    }\n",
              "    60% {\n",
              "      border-color: transparent;\n",
              "      border-right-color: var(--fill-color);\n",
              "    }\n",
              "    80% {\n",
              "      border-color: transparent;\n",
              "      border-right-color: var(--fill-color);\n",
              "      border-bottom-color: var(--fill-color);\n",
              "    }\n",
              "    90% {\n",
              "      border-color: transparent;\n",
              "      border-bottom-color: var(--fill-color);\n",
              "    }\n",
              "  }\n",
              "</style>\n",
              "\n",
              "  <script>\n",
              "    async function quickchart(key) {\n",
              "      const quickchartButtonEl =\n",
              "        document.querySelector('#' + key + ' button');\n",
              "      quickchartButtonEl.disabled = true;  // To prevent multiple clicks.\n",
              "      quickchartButtonEl.classList.add('colab-df-spinner');\n",
              "      try {\n",
              "        const charts = await google.colab.kernel.invokeFunction(\n",
              "            'suggestCharts', [key], {});\n",
              "      } catch (error) {\n",
              "        console.error('Error during call to suggestCharts:', error);\n",
              "      }\n",
              "      quickchartButtonEl.classList.remove('colab-df-spinner');\n",
              "      quickchartButtonEl.classList.add('colab-df-quickchart-complete');\n",
              "    }\n",
              "    (() => {\n",
              "      let quickchartButtonEl =\n",
              "        document.querySelector('#df-260492bc-7f0f-4985-a1ce-55d6c076074d button');\n",
              "      quickchartButtonEl.style.display =\n",
              "        google.colab.kernel.accessAllowed ? 'block' : 'none';\n",
              "    })();\n",
              "  </script>\n",
              "</div>\n",
              "\n",
              "  <div id=\"id_dd60961c-b887-4a5d-817e-2508e595c4cb\">\n",
              "    <style>\n",
              "      .colab-df-generate {\n",
              "        background-color: #E8F0FE;\n",
              "        border: none;\n",
              "        border-radius: 50%;\n",
              "        cursor: pointer;\n",
              "        display: none;\n",
              "        fill: #1967D2;\n",
              "        height: 32px;\n",
              "        padding: 0 0 0 0;\n",
              "        width: 32px;\n",
              "      }\n",
              "\n",
              "      .colab-df-generate:hover {\n",
              "        background-color: #E2EBFA;\n",
              "        box-shadow: 0px 1px 2px rgba(60, 64, 67, 0.3), 0px 1px 3px 1px rgba(60, 64, 67, 0.15);\n",
              "        fill: #174EA6;\n",
              "      }\n",
              "\n",
              "      [theme=dark] .colab-df-generate {\n",
              "        background-color: #3B4455;\n",
              "        fill: #D2E3FC;\n",
              "      }\n",
              "\n",
              "      [theme=dark] .colab-df-generate:hover {\n",
              "        background-color: #434B5C;\n",
              "        box-shadow: 0px 1px 3px 1px rgba(0, 0, 0, 0.15);\n",
              "        filter: drop-shadow(0px 1px 2px rgba(0, 0, 0, 0.3));\n",
              "        fill: #FFFFFF;\n",
              "      }\n",
              "    </style>\n",
              "    <button class=\"colab-df-generate\" onclick=\"generateWithVariable('df')\"\n",
              "            title=\"Generate code using this dataframe.\"\n",
              "            style=\"display:none;\">\n",
              "\n",
              "  <svg xmlns=\"http://www.w3.org/2000/svg\" height=\"24px\"viewBox=\"0 0 24 24\"\n",
              "       width=\"24px\">\n",
              "    <path d=\"M7,19H8.4L18.45,9,17,7.55,7,17.6ZM5,21V16.75L18.45,3.32a2,2,0,0,1,2.83,0l1.4,1.43a1.91,1.91,0,0,1,.58,1.4,1.91,1.91,0,0,1-.58,1.4L9.25,21ZM18.45,9,17,7.55Zm-12,3A5.31,5.31,0,0,0,4.9,8.1,5.31,5.31,0,0,0,1,6.5,5.31,5.31,0,0,0,4.9,4.9,5.31,5.31,0,0,0,6.5,1,5.31,5.31,0,0,0,8.1,4.9,5.31,5.31,0,0,0,12,6.5,5.46,5.46,0,0,0,6.5,12Z\"/>\n",
              "  </svg>\n",
              "    </button>\n",
              "    <script>\n",
              "      (() => {\n",
              "      const buttonEl =\n",
              "        document.querySelector('#id_dd60961c-b887-4a5d-817e-2508e595c4cb button.colab-df-generate');\n",
              "      buttonEl.style.display =\n",
              "        google.colab.kernel.accessAllowed ? 'block' : 'none';\n",
              "\n",
              "      buttonEl.onclick = () => {\n",
              "        google.colab.notebook.generateWithVariable('df');\n",
              "      }\n",
              "      })();\n",
              "    </script>\n",
              "  </div>\n",
              "\n",
              "    </div>\n",
              "  </div>\n"
            ],
            "application/vnd.google.colaboratory.intrinsic+json": {
              "type": "dataframe",
              "variable_name": "df",
              "summary": "{\n  \"name\": \"df\",\n  \"rows\": 136,\n  \"fields\": [\n    {\n      \"column\": \"Text\",\n      \"properties\": {\n        \"dtype\": \"string\",\n        \"num_unique_values\": 107,\n        \"samples\": [\n          \"\\u09a4\\u09be\\u0987 \\u09ac\\u09c1\\u09b2\\u09bf \\u0995\\u09cb\\u09a8\\u09cb \\u09a7\\u09f0\\u09cd\\u09ae \\u09a8\\u09be\\u0987 \\u0986\\u099b\\u09c7 \\u09ab\\u09c2\\u09f0\\u09be\\u09b2\\u09c1\\u0982 \\u09b9\\u09c7,thailand \\u09f0 \\u09ae\\u09be\\u09a8\\u09c1\\u09b9\\u09c7 Budhism \\u09b9\\u09c7 \\u09ae\\u09be\\u09a8\\u09c7,\",\n          \"\\u0985\\u09b8\\u09ae\\u09a4\\u09c7 \\u09af\\u09c7 \\u0985\\u09b8\\u09ae\\u09c0\\u09df\\u09be\\u0995 \\u0985\\u09b9\\u09ae\\u09bf\\u09df\\u09be \\u09ac\\u09cb\\u09b2\\u09c7 \\u0985\\u09b8\\u09ae\\u0995 \\u0985\\u09b9\\u09ae \\u09ac\\u09cb\\u09b2\\u09c7 ,\\u09ad\\u09be\\u09b2 \\u0995 \\u09ac\\u09be\\u09b2 \\u09ac\\u09cb\\u09b2\\u09c7, \\u09a6\\u09c7\\u09b6 \\u0995 \\u09a6\\u09c7\\u09b9 \\u09ac\\u09cb\\u09b2\\u09c7,\\u09ad\\u09be\\u09f0\\u09a4\\u0995 \\u09ac\\u09be\\u09f0\\u09a4 \\u09ac\\u09cb\\u09b2\\u09c7 \\u098f\\u0987 \\u098f\\u09a8\\u09c7 \\u09a7\\u09f0\\u09a8\\u09f0 \\u0995\\u09bf\\u09ae\\u09be\\u09a8 \\u09af\\u09c7 \\u09b6\\u09ac\\u09cd\\u09a6\\u09f0 \\u09ac\\u09bf\\u0995\\u09c3\\u09a4\\u0995\\u09f0\\u09a8 \\u09b9\\u09c8 \\u0986\\u099b\\u09c7 \\u098f\\u0987 \\u09ac\\u09bf\\u09b2\\u09be\\u0995\\u09c7\\u09b9\\u09c7 \\u0985\\u09b8\\u09ae\\u09c0\\u09df\\u09be \\u09ad\\u09be\\u09b7\\u09be\\u09f0 \\u09ae\\u09be\\u0987 \\u09ac\\u09be\\u09aa \\u09a8\\u09cb\\u09b9\\u09cb\\u09f1\\u09be \\u0995\\u09f0\\u09bf \\u0986\\u099b\\u09c7 \\u0986\\u09f0\\u09c1 \\u0995\\u09f0\\u09bf\\u09ac\",\n          \"\\u0986\\u09ae\\u09bf \\u09af\\u09c7\\u09a4\\u09bf\\u09af\\u09bc\\u09be \\u0985\\u09b8\\u09ae\\u09c0\\u09af\\u09bc\\u09be \\u09ae\\u09be\\u09a7\\u09cd\\u09af\\u09ae\\u09a4 \\u09b6\\u09bf\\u0995\\u09cd\\u09b7\\u09be \\u09b2\\u09c8\\u099b\\u09bf\\u09b2\\u09cb\\u0981 \\u09a4\\u09c7\\u09a4\\u09bf\\u09af\\u09bc\\u09be \\u09ae\\u09b9\\u09be\\u09ac\\u09bf\\u09a6\\u09cd\\u09af\\u09be\\u09b2\\u09af\\u09bc\\u09a4 \\u0997\\u09c8 \\u09a6\\u09c7\\u0996\\u09bf\\u099b\\u09cb\\u0981 \\u09af\\u09c7 \\u0985\\u09b8\\u09ae\\u09c0\\u09af\\u09bc\\u09be \\u09ae\\u09be\\u09a7\\u09cd\\u09af\\u09ae\\u09a4 \\u09ae\\u09c7\\u099c\\u09f0 \\u09ac\\u09bf\\u09b7\\u09af\\u09bc \\u09b8\\u09ae\\u09c2\\u09b9\\u09f0 \\u0995\\u09bf\\u09a4\\u09be\\u09aa \\u09aa\\u09cb\\u09f1\\u09be \\u09a8\\u09be\\u09af\\u09be\\u09af\\u09bc \\u09a4\\u09c7\\u09a4\\u09bf\\u09af\\u09bc\\u09be \\u098f \\u0989\\u09aa\\u09b2\\u09ac\\u09cd\\u09a7\\u09bf \\u0995\\u09f0\\u09bf\\u099b\\u09bf\\u09b2\\u09cb\\u0981 \\u09af\\u09c7 \\u0995\\u09bf\\u09af\\u09bc \\u0985\\u09b8\\u09ae\\u09c0\\u09af\\u09bc\\u09be \\u09ae\\u09be\\u09a7\\u09cd\\u09af\\u09ae\\u09a4 \\u09b6\\u09bf\\u0995\\u09cd\\u09b7\\u09be \\u09b2\\u09c8\\u099b\\u09bf\\u09b2\\u09cb\\u0981, \\u0997\\u09a4\\u09bf\\u0995\\u09c7 \\u09b8\\u09c7\\u0987 \\u098f\\u0995\\u09c7 \\u09ad\\u09c1\\u09b2 \\u09ae\\u09cb\\u09f0 \\u09b8\\u09a8\\u09cd\\u09a4\\u09be\\u09a8\\u09f0 \\u0995\\u09cd\\u09b7\\u09c7\\u09a4\\u09cd\\u09f0\\u09a4 \\u0995\\u09f0\\u09bf\\u09ac \\u09a8\\u09bf\\u09ac\\u09bf\\u099a\\u09be\\u09f0\\u09cb\\u0981 , \\u0997\\u09a4\\u09bf\\u0995\\u09c7 \\u0986\\u09aa\\u09cb\\u09a8\\u09be\\u09b2\\u09cb\\u0995 \\u099f\\u09cb \\u09ad\\u09c1\\u0995\\u09cd\\u09a4 \\u09ad\\u09c1\\u0997\\u09bf \\u09a8\\u09b9\\u0987 \\u09b8\\u09c7\\u0987 \\u09ac\\u09be\\u09ac\\u09c7 \\u0986\\u09aa\\u09cb\\u09a8\\u09be\\u09b2\\u09cb\\u0995\\u09f0 \\u098f\\u0987 \\u09ac\\u09bf\\u09b7\\u09af\\u09bc\\u09a4 \\u09ae\\u09be\\u09a4 \\u09ae\\u09be\\u09a4\\u09be\\u09f0 \\u0993 \\u0995\\u09cb\\u09a8\\u09cb \\u0985\\u09a7\\u09bf\\u0995\\u09be\\u09f0 \\u09a8\\u09be\\u0987 \\u0964\"\n        ],\n        \"semantic_type\": \"\",\n        \"description\": \"\"\n      }\n    },\n    {\n      \"column\": \"label\",\n      \"properties\": {\n        \"dtype\": \"category\",\n        \"num_unique_values\": 3,\n        \"samples\": [\n          \"1\",\n          \"0\",\n          \"-\"\n        ],\n        \"semantic_type\": \"\",\n        \"description\": \"\"\n      }\n    },\n    {\n      \"column\": \"Unnamed: 2\",\n      \"properties\": {\n        \"dtype\": \"category\",\n        \"num_unique_values\": 1,\n        \"samples\": [\n          \" \"\n        ],\n        \"semantic_type\": \"\",\n        \"description\": \"\"\n      }\n    },\n    {\n      \"column\": \"Unnamed: 3\",\n      \"properties\": {\n        \"dtype\": \"category\",\n        \"num_unique_values\": 1,\n        \"samples\": [\n          \" \"\n        ],\n        \"semantic_type\": \"\",\n        \"description\": \"\"\n      }\n    }\n  ]\n}"
            }
          },
          "metadata": {},
          "execution_count": 144
        }
      ]
    },
    {
      "cell_type": "markdown",
      "source": [
        "### data preprocessing"
      ],
      "metadata": {
        "id": "fKQRYgGktNDK"
      }
    },
    {
      "cell_type": "code",
      "source": [
        "df = df.drop(columns=['Unnamed: 2', 'Unnamed: 3'])"
      ],
      "metadata": {
        "id": "qj4KX50IZST_"
      },
      "execution_count": null,
      "outputs": []
    },
    {
      "cell_type": "code",
      "source": [
        "df.head()"
      ],
      "metadata": {
        "colab": {
          "base_uri": "https://localhost:8080/",
          "height": 206
        },
        "id": "gdCXw-jhZUdQ",
        "outputId": "f60ec632-f6bc-43d4-8a2b-53d902d80433"
      },
      "execution_count": null,
      "outputs": [
        {
          "output_type": "execute_result",
          "data": {
            "text/plain": [
              "                                                Text label\n",
              "0                                    চাল্লা কি মানুহ     1\n",
              "1  নাটক কৰিবলৈ স্থান নাইপোৱা চাগে.........মুঠতে চ...     1\n",
              "2  আপোনালোকে বহিঃৰাইজত গৈ কি ভাষা মাতিবলগীয়া হয়...     1\n",
              "3  অসমত কিমান জনে চাকৰি পাইছে।।যি কেইটামান ওলাই চ...     1\n",
              "4  আমি যেতিয়া অসমীয়া মাধ্যমত শিক্ষা লৈছিলোঁ তেত...     1"
            ],
            "text/html": [
              "\n",
              "  <div id=\"df-a6836e0c-e6c8-4b23-ac9e-15c8bc76ce22\" class=\"colab-df-container\">\n",
              "    <div>\n",
              "<style scoped>\n",
              "    .dataframe tbody tr th:only-of-type {\n",
              "        vertical-align: middle;\n",
              "    }\n",
              "\n",
              "    .dataframe tbody tr th {\n",
              "        vertical-align: top;\n",
              "    }\n",
              "\n",
              "    .dataframe thead th {\n",
              "        text-align: right;\n",
              "    }\n",
              "</style>\n",
              "<table border=\"1\" class=\"dataframe\">\n",
              "  <thead>\n",
              "    <tr style=\"text-align: right;\">\n",
              "      <th></th>\n",
              "      <th>Text</th>\n",
              "      <th>label</th>\n",
              "    </tr>\n",
              "  </thead>\n",
              "  <tbody>\n",
              "    <tr>\n",
              "      <th>0</th>\n",
              "      <td>চাল্লা কি মানুহ</td>\n",
              "      <td>1</td>\n",
              "    </tr>\n",
              "    <tr>\n",
              "      <th>1</th>\n",
              "      <td>নাটক কৰিবলৈ স্থান নাইপোৱা চাগে.........মুঠতে চ...</td>\n",
              "      <td>1</td>\n",
              "    </tr>\n",
              "    <tr>\n",
              "      <th>2</th>\n",
              "      <td>আপোনালোকে বহিঃৰাইজত গৈ কি ভাষা মাতিবলগীয়া হয়...</td>\n",
              "      <td>1</td>\n",
              "    </tr>\n",
              "    <tr>\n",
              "      <th>3</th>\n",
              "      <td>অসমত কিমান জনে চাকৰি পাইছে।।যি কেইটামান ওলাই চ...</td>\n",
              "      <td>1</td>\n",
              "    </tr>\n",
              "    <tr>\n",
              "      <th>4</th>\n",
              "      <td>আমি যেতিয়া অসমীয়া মাধ্যমত শিক্ষা লৈছিলোঁ তেত...</td>\n",
              "      <td>1</td>\n",
              "    </tr>\n",
              "  </tbody>\n",
              "</table>\n",
              "</div>\n",
              "    <div class=\"colab-df-buttons\">\n",
              "\n",
              "  <div class=\"colab-df-container\">\n",
              "    <button class=\"colab-df-convert\" onclick=\"convertToInteractive('df-a6836e0c-e6c8-4b23-ac9e-15c8bc76ce22')\"\n",
              "            title=\"Convert this dataframe to an interactive table.\"\n",
              "            style=\"display:none;\">\n",
              "\n",
              "  <svg xmlns=\"http://www.w3.org/2000/svg\" height=\"24px\" viewBox=\"0 -960 960 960\">\n",
              "    <path d=\"M120-120v-720h720v720H120Zm60-500h600v-160H180v160Zm220 220h160v-160H400v160Zm0 220h160v-160H400v160ZM180-400h160v-160H180v160Zm440 0h160v-160H620v160ZM180-180h160v-160H180v160Zm440 0h160v-160H620v160Z\"/>\n",
              "  </svg>\n",
              "    </button>\n",
              "\n",
              "  <style>\n",
              "    .colab-df-container {\n",
              "      display:flex;\n",
              "      gap: 12px;\n",
              "    }\n",
              "\n",
              "    .colab-df-convert {\n",
              "      background-color: #E8F0FE;\n",
              "      border: none;\n",
              "      border-radius: 50%;\n",
              "      cursor: pointer;\n",
              "      display: none;\n",
              "      fill: #1967D2;\n",
              "      height: 32px;\n",
              "      padding: 0 0 0 0;\n",
              "      width: 32px;\n",
              "    }\n",
              "\n",
              "    .colab-df-convert:hover {\n",
              "      background-color: #E2EBFA;\n",
              "      box-shadow: 0px 1px 2px rgba(60, 64, 67, 0.3), 0px 1px 3px 1px rgba(60, 64, 67, 0.15);\n",
              "      fill: #174EA6;\n",
              "    }\n",
              "\n",
              "    .colab-df-buttons div {\n",
              "      margin-bottom: 4px;\n",
              "    }\n",
              "\n",
              "    [theme=dark] .colab-df-convert {\n",
              "      background-color: #3B4455;\n",
              "      fill: #D2E3FC;\n",
              "    }\n",
              "\n",
              "    [theme=dark] .colab-df-convert:hover {\n",
              "      background-color: #434B5C;\n",
              "      box-shadow: 0px 1px 3px 1px rgba(0, 0, 0, 0.15);\n",
              "      filter: drop-shadow(0px 1px 2px rgba(0, 0, 0, 0.3));\n",
              "      fill: #FFFFFF;\n",
              "    }\n",
              "  </style>\n",
              "\n",
              "    <script>\n",
              "      const buttonEl =\n",
              "        document.querySelector('#df-a6836e0c-e6c8-4b23-ac9e-15c8bc76ce22 button.colab-df-convert');\n",
              "      buttonEl.style.display =\n",
              "        google.colab.kernel.accessAllowed ? 'block' : 'none';\n",
              "\n",
              "      async function convertToInteractive(key) {\n",
              "        const element = document.querySelector('#df-a6836e0c-e6c8-4b23-ac9e-15c8bc76ce22');\n",
              "        const dataTable =\n",
              "          await google.colab.kernel.invokeFunction('convertToInteractive',\n",
              "                                                    [key], {});\n",
              "        if (!dataTable) return;\n",
              "\n",
              "        const docLinkHtml = 'Like what you see? Visit the ' +\n",
              "          '<a target=\"_blank\" href=https://colab.research.google.com/notebooks/data_table.ipynb>data table notebook</a>'\n",
              "          + ' to learn more about interactive tables.';\n",
              "        element.innerHTML = '';\n",
              "        dataTable['output_type'] = 'display_data';\n",
              "        await google.colab.output.renderOutput(dataTable, element);\n",
              "        const docLink = document.createElement('div');\n",
              "        docLink.innerHTML = docLinkHtml;\n",
              "        element.appendChild(docLink);\n",
              "      }\n",
              "    </script>\n",
              "  </div>\n",
              "\n",
              "\n",
              "<div id=\"df-29fce6e4-d9db-4fb8-8049-c6641d2eee49\">\n",
              "  <button class=\"colab-df-quickchart\" onclick=\"quickchart('df-29fce6e4-d9db-4fb8-8049-c6641d2eee49')\"\n",
              "            title=\"Suggest charts\"\n",
              "            style=\"display:none;\">\n",
              "\n",
              "<svg xmlns=\"http://www.w3.org/2000/svg\" height=\"24px\"viewBox=\"0 0 24 24\"\n",
              "     width=\"24px\">\n",
              "    <g>\n",
              "        <path d=\"M19 3H5c-1.1 0-2 .9-2 2v14c0 1.1.9 2 2 2h14c1.1 0 2-.9 2-2V5c0-1.1-.9-2-2-2zM9 17H7v-7h2v7zm4 0h-2V7h2v10zm4 0h-2v-4h2v4z\"/>\n",
              "    </g>\n",
              "</svg>\n",
              "  </button>\n",
              "\n",
              "<style>\n",
              "  .colab-df-quickchart {\n",
              "      --bg-color: #E8F0FE;\n",
              "      --fill-color: #1967D2;\n",
              "      --hover-bg-color: #E2EBFA;\n",
              "      --hover-fill-color: #174EA6;\n",
              "      --disabled-fill-color: #AAA;\n",
              "      --disabled-bg-color: #DDD;\n",
              "  }\n",
              "\n",
              "  [theme=dark] .colab-df-quickchart {\n",
              "      --bg-color: #3B4455;\n",
              "      --fill-color: #D2E3FC;\n",
              "      --hover-bg-color: #434B5C;\n",
              "      --hover-fill-color: #FFFFFF;\n",
              "      --disabled-bg-color: #3B4455;\n",
              "      --disabled-fill-color: #666;\n",
              "  }\n",
              "\n",
              "  .colab-df-quickchart {\n",
              "    background-color: var(--bg-color);\n",
              "    border: none;\n",
              "    border-radius: 50%;\n",
              "    cursor: pointer;\n",
              "    display: none;\n",
              "    fill: var(--fill-color);\n",
              "    height: 32px;\n",
              "    padding: 0;\n",
              "    width: 32px;\n",
              "  }\n",
              "\n",
              "  .colab-df-quickchart:hover {\n",
              "    background-color: var(--hover-bg-color);\n",
              "    box-shadow: 0 1px 2px rgba(60, 64, 67, 0.3), 0 1px 3px 1px rgba(60, 64, 67, 0.15);\n",
              "    fill: var(--button-hover-fill-color);\n",
              "  }\n",
              "\n",
              "  .colab-df-quickchart-complete:disabled,\n",
              "  .colab-df-quickchart-complete:disabled:hover {\n",
              "    background-color: var(--disabled-bg-color);\n",
              "    fill: var(--disabled-fill-color);\n",
              "    box-shadow: none;\n",
              "  }\n",
              "\n",
              "  .colab-df-spinner {\n",
              "    border: 2px solid var(--fill-color);\n",
              "    border-color: transparent;\n",
              "    border-bottom-color: var(--fill-color);\n",
              "    animation:\n",
              "      spin 1s steps(1) infinite;\n",
              "  }\n",
              "\n",
              "  @keyframes spin {\n",
              "    0% {\n",
              "      border-color: transparent;\n",
              "      border-bottom-color: var(--fill-color);\n",
              "      border-left-color: var(--fill-color);\n",
              "    }\n",
              "    20% {\n",
              "      border-color: transparent;\n",
              "      border-left-color: var(--fill-color);\n",
              "      border-top-color: var(--fill-color);\n",
              "    }\n",
              "    30% {\n",
              "      border-color: transparent;\n",
              "      border-left-color: var(--fill-color);\n",
              "      border-top-color: var(--fill-color);\n",
              "      border-right-color: var(--fill-color);\n",
              "    }\n",
              "    40% {\n",
              "      border-color: transparent;\n",
              "      border-right-color: var(--fill-color);\n",
              "      border-top-color: var(--fill-color);\n",
              "    }\n",
              "    60% {\n",
              "      border-color: transparent;\n",
              "      border-right-color: var(--fill-color);\n",
              "    }\n",
              "    80% {\n",
              "      border-color: transparent;\n",
              "      border-right-color: var(--fill-color);\n",
              "      border-bottom-color: var(--fill-color);\n",
              "    }\n",
              "    90% {\n",
              "      border-color: transparent;\n",
              "      border-bottom-color: var(--fill-color);\n",
              "    }\n",
              "  }\n",
              "</style>\n",
              "\n",
              "  <script>\n",
              "    async function quickchart(key) {\n",
              "      const quickchartButtonEl =\n",
              "        document.querySelector('#' + key + ' button');\n",
              "      quickchartButtonEl.disabled = true;  // To prevent multiple clicks.\n",
              "      quickchartButtonEl.classList.add('colab-df-spinner');\n",
              "      try {\n",
              "        const charts = await google.colab.kernel.invokeFunction(\n",
              "            'suggestCharts', [key], {});\n",
              "      } catch (error) {\n",
              "        console.error('Error during call to suggestCharts:', error);\n",
              "      }\n",
              "      quickchartButtonEl.classList.remove('colab-df-spinner');\n",
              "      quickchartButtonEl.classList.add('colab-df-quickchart-complete');\n",
              "    }\n",
              "    (() => {\n",
              "      let quickchartButtonEl =\n",
              "        document.querySelector('#df-29fce6e4-d9db-4fb8-8049-c6641d2eee49 button');\n",
              "      quickchartButtonEl.style.display =\n",
              "        google.colab.kernel.accessAllowed ? 'block' : 'none';\n",
              "    })();\n",
              "  </script>\n",
              "</div>\n",
              "\n",
              "    </div>\n",
              "  </div>\n"
            ],
            "application/vnd.google.colaboratory.intrinsic+json": {
              "type": "dataframe",
              "variable_name": "df",
              "summary": "{\n  \"name\": \"df\",\n  \"rows\": 136,\n  \"fields\": [\n    {\n      \"column\": \"Text\",\n      \"properties\": {\n        \"dtype\": \"string\",\n        \"num_unique_values\": 107,\n        \"samples\": [\n          \"\\u09a4\\u09be\\u0987 \\u09ac\\u09c1\\u09b2\\u09bf \\u0995\\u09cb\\u09a8\\u09cb \\u09a7\\u09f0\\u09cd\\u09ae \\u09a8\\u09be\\u0987 \\u0986\\u099b\\u09c7 \\u09ab\\u09c2\\u09f0\\u09be\\u09b2\\u09c1\\u0982 \\u09b9\\u09c7,thailand \\u09f0 \\u09ae\\u09be\\u09a8\\u09c1\\u09b9\\u09c7 Budhism \\u09b9\\u09c7 \\u09ae\\u09be\\u09a8\\u09c7,\",\n          \"\\u0985\\u09b8\\u09ae\\u09a4\\u09c7 \\u09af\\u09c7 \\u0985\\u09b8\\u09ae\\u09c0\\u09df\\u09be\\u0995 \\u0985\\u09b9\\u09ae\\u09bf\\u09df\\u09be \\u09ac\\u09cb\\u09b2\\u09c7 \\u0985\\u09b8\\u09ae\\u0995 \\u0985\\u09b9\\u09ae \\u09ac\\u09cb\\u09b2\\u09c7 ,\\u09ad\\u09be\\u09b2 \\u0995 \\u09ac\\u09be\\u09b2 \\u09ac\\u09cb\\u09b2\\u09c7, \\u09a6\\u09c7\\u09b6 \\u0995 \\u09a6\\u09c7\\u09b9 \\u09ac\\u09cb\\u09b2\\u09c7,\\u09ad\\u09be\\u09f0\\u09a4\\u0995 \\u09ac\\u09be\\u09f0\\u09a4 \\u09ac\\u09cb\\u09b2\\u09c7 \\u098f\\u0987 \\u098f\\u09a8\\u09c7 \\u09a7\\u09f0\\u09a8\\u09f0 \\u0995\\u09bf\\u09ae\\u09be\\u09a8 \\u09af\\u09c7 \\u09b6\\u09ac\\u09cd\\u09a6\\u09f0 \\u09ac\\u09bf\\u0995\\u09c3\\u09a4\\u0995\\u09f0\\u09a8 \\u09b9\\u09c8 \\u0986\\u099b\\u09c7 \\u098f\\u0987 \\u09ac\\u09bf\\u09b2\\u09be\\u0995\\u09c7\\u09b9\\u09c7 \\u0985\\u09b8\\u09ae\\u09c0\\u09df\\u09be \\u09ad\\u09be\\u09b7\\u09be\\u09f0 \\u09ae\\u09be\\u0987 \\u09ac\\u09be\\u09aa \\u09a8\\u09cb\\u09b9\\u09cb\\u09f1\\u09be \\u0995\\u09f0\\u09bf \\u0986\\u099b\\u09c7 \\u0986\\u09f0\\u09c1 \\u0995\\u09f0\\u09bf\\u09ac\",\n          \"\\u0986\\u09ae\\u09bf \\u09af\\u09c7\\u09a4\\u09bf\\u09af\\u09bc\\u09be \\u0985\\u09b8\\u09ae\\u09c0\\u09af\\u09bc\\u09be \\u09ae\\u09be\\u09a7\\u09cd\\u09af\\u09ae\\u09a4 \\u09b6\\u09bf\\u0995\\u09cd\\u09b7\\u09be \\u09b2\\u09c8\\u099b\\u09bf\\u09b2\\u09cb\\u0981 \\u09a4\\u09c7\\u09a4\\u09bf\\u09af\\u09bc\\u09be \\u09ae\\u09b9\\u09be\\u09ac\\u09bf\\u09a6\\u09cd\\u09af\\u09be\\u09b2\\u09af\\u09bc\\u09a4 \\u0997\\u09c8 \\u09a6\\u09c7\\u0996\\u09bf\\u099b\\u09cb\\u0981 \\u09af\\u09c7 \\u0985\\u09b8\\u09ae\\u09c0\\u09af\\u09bc\\u09be \\u09ae\\u09be\\u09a7\\u09cd\\u09af\\u09ae\\u09a4 \\u09ae\\u09c7\\u099c\\u09f0 \\u09ac\\u09bf\\u09b7\\u09af\\u09bc \\u09b8\\u09ae\\u09c2\\u09b9\\u09f0 \\u0995\\u09bf\\u09a4\\u09be\\u09aa \\u09aa\\u09cb\\u09f1\\u09be \\u09a8\\u09be\\u09af\\u09be\\u09af\\u09bc \\u09a4\\u09c7\\u09a4\\u09bf\\u09af\\u09bc\\u09be \\u098f \\u0989\\u09aa\\u09b2\\u09ac\\u09cd\\u09a7\\u09bf \\u0995\\u09f0\\u09bf\\u099b\\u09bf\\u09b2\\u09cb\\u0981 \\u09af\\u09c7 \\u0995\\u09bf\\u09af\\u09bc \\u0985\\u09b8\\u09ae\\u09c0\\u09af\\u09bc\\u09be \\u09ae\\u09be\\u09a7\\u09cd\\u09af\\u09ae\\u09a4 \\u09b6\\u09bf\\u0995\\u09cd\\u09b7\\u09be \\u09b2\\u09c8\\u099b\\u09bf\\u09b2\\u09cb\\u0981, \\u0997\\u09a4\\u09bf\\u0995\\u09c7 \\u09b8\\u09c7\\u0987 \\u098f\\u0995\\u09c7 \\u09ad\\u09c1\\u09b2 \\u09ae\\u09cb\\u09f0 \\u09b8\\u09a8\\u09cd\\u09a4\\u09be\\u09a8\\u09f0 \\u0995\\u09cd\\u09b7\\u09c7\\u09a4\\u09cd\\u09f0\\u09a4 \\u0995\\u09f0\\u09bf\\u09ac \\u09a8\\u09bf\\u09ac\\u09bf\\u099a\\u09be\\u09f0\\u09cb\\u0981 , \\u0997\\u09a4\\u09bf\\u0995\\u09c7 \\u0986\\u09aa\\u09cb\\u09a8\\u09be\\u09b2\\u09cb\\u0995 \\u099f\\u09cb \\u09ad\\u09c1\\u0995\\u09cd\\u09a4 \\u09ad\\u09c1\\u0997\\u09bf \\u09a8\\u09b9\\u0987 \\u09b8\\u09c7\\u0987 \\u09ac\\u09be\\u09ac\\u09c7 \\u0986\\u09aa\\u09cb\\u09a8\\u09be\\u09b2\\u09cb\\u0995\\u09f0 \\u098f\\u0987 \\u09ac\\u09bf\\u09b7\\u09af\\u09bc\\u09a4 \\u09ae\\u09be\\u09a4 \\u09ae\\u09be\\u09a4\\u09be\\u09f0 \\u0993 \\u0995\\u09cb\\u09a8\\u09cb \\u0985\\u09a7\\u09bf\\u0995\\u09be\\u09f0 \\u09a8\\u09be\\u0987 \\u0964\"\n        ],\n        \"semantic_type\": \"\",\n        \"description\": \"\"\n      }\n    },\n    {\n      \"column\": \"label\",\n      \"properties\": {\n        \"dtype\": \"category\",\n        \"num_unique_values\": 3,\n        \"samples\": [\n          \"1\",\n          \"0\",\n          \"-\"\n        ],\n        \"semantic_type\": \"\",\n        \"description\": \"\"\n      }\n    }\n  ]\n}"
            }
          },
          "metadata": {},
          "execution_count": 146
        }
      ]
    },
    {
      "cell_type": "code",
      "source": [
        "df.isnull().sum()"
      ],
      "metadata": {
        "colab": {
          "base_uri": "https://localhost:8080/"
        },
        "id": "9V9TCfG8ZXE5",
        "outputId": "d095bfc8-5488-4d01-da88-86da7f345ae4"
      },
      "execution_count": null,
      "outputs": [
        {
          "output_type": "execute_result",
          "data": {
            "text/plain": [
              "Text     0\n",
              "label    1\n",
              "dtype: int64"
            ]
          },
          "metadata": {},
          "execution_count": 147
        }
      ]
    },
    {
      "cell_type": "code",
      "source": [
        "df = df.dropna(subset=['label'])"
      ],
      "metadata": {
        "id": "qCkVkeXvZoD9"
      },
      "execution_count": null,
      "outputs": []
    },
    {
      "cell_type": "code",
      "source": [
        "df.isnull().sum()"
      ],
      "metadata": {
        "colab": {
          "base_uri": "https://localhost:8080/"
        },
        "id": "bjfkY_czZqbS",
        "outputId": "29b5d9e4-50fc-48e1-a2bb-bcc6fef6666b"
      },
      "execution_count": null,
      "outputs": [
        {
          "output_type": "execute_result",
          "data": {
            "text/plain": [
              "Text     0\n",
              "label    0\n",
              "dtype: int64"
            ]
          },
          "metadata": {},
          "execution_count": 149
        }
      ]
    },
    {
      "cell_type": "code",
      "source": [],
      "metadata": {
        "id": "3q72uISnZubw"
      },
      "execution_count": null,
      "outputs": []
    },
    {
      "cell_type": "code",
      "source": [
        "df['label'].unique()"
      ],
      "metadata": {
        "colab": {
          "base_uri": "https://localhost:8080/"
        },
        "id": "MeZWj98GWnyV",
        "outputId": "95891c7f-7d6f-4f1f-973b-24ea32ed91cd"
      },
      "execution_count": null,
      "outputs": [
        {
          "output_type": "execute_result",
          "data": {
            "text/plain": [
              "array(['1', '0', '-'], dtype=object)"
            ]
          },
          "metadata": {},
          "execution_count": 150
        }
      ]
    },
    {
      "cell_type": "code",
      "source": [
        "df = df[df['label'] != '-']\n",
        "df"
      ],
      "metadata": {
        "colab": {
          "base_uri": "https://localhost:8080/",
          "height": 423
        },
        "id": "H1vNgcZSXgk4",
        "outputId": "de3774f7-170c-48ad-fac4-5d01ca899755"
      },
      "execution_count": null,
      "outputs": [
        {
          "output_type": "execute_result",
          "data": {
            "text/plain": [
              "                                                  Text label\n",
              "0                                      চাল্লা কি মানুহ     1\n",
              "1    নাটক কৰিবলৈ স্থান নাইপোৱা চাগে.........মুঠতে চ...     1\n",
              "2    আপোনালোকে বহিঃৰাইজত গৈ কি ভাষা মাতিবলগীয়া হয়...     1\n",
              "3    অসমত কিমান জনে চাকৰি পাইছে।।যি কেইটামান ওলাই চ...     1\n",
              "4    আমি যেতিয়া অসমীয়া মাধ্যমত শিক্ষা লৈছিলোঁ তেত...     1\n",
              "..                                                 ...   ...\n",
              "131  ।।। ঘেণ্টা!!!\\n তই সাধাৰণ VCD এখনৰ নৃত্য পৰিচা...     1\n",
              "132  .নাৰীয়েই মেকআপ কৰিব লৰাই তো লিপষ্টিক কাজল লগাই...     1\n",
              "133  তোমাৰ মা ও হয় তো প্রসাধনৰ নামত কিবা অলপ সালনিহ...     1\n",
              "134  সিহঁত \"social servant\" হে। তাৰ বাহিৰে বেলেগ এক...     0\n",
              "135  enjoy কৰিবি তহঁতি।তুৰ মতলব ভালকৈয়ে গম পালো।মত...     0\n",
              "\n",
              "[134 rows x 2 columns]"
            ],
            "text/html": [
              "\n",
              "  <div id=\"df-260f6734-d79d-497e-8738-36895407aabc\" class=\"colab-df-container\">\n",
              "    <div>\n",
              "<style scoped>\n",
              "    .dataframe tbody tr th:only-of-type {\n",
              "        vertical-align: middle;\n",
              "    }\n",
              "\n",
              "    .dataframe tbody tr th {\n",
              "        vertical-align: top;\n",
              "    }\n",
              "\n",
              "    .dataframe thead th {\n",
              "        text-align: right;\n",
              "    }\n",
              "</style>\n",
              "<table border=\"1\" class=\"dataframe\">\n",
              "  <thead>\n",
              "    <tr style=\"text-align: right;\">\n",
              "      <th></th>\n",
              "      <th>Text</th>\n",
              "      <th>label</th>\n",
              "    </tr>\n",
              "  </thead>\n",
              "  <tbody>\n",
              "    <tr>\n",
              "      <th>0</th>\n",
              "      <td>চাল্লা কি মানুহ</td>\n",
              "      <td>1</td>\n",
              "    </tr>\n",
              "    <tr>\n",
              "      <th>1</th>\n",
              "      <td>নাটক কৰিবলৈ স্থান নাইপোৱা চাগে.........মুঠতে চ...</td>\n",
              "      <td>1</td>\n",
              "    </tr>\n",
              "    <tr>\n",
              "      <th>2</th>\n",
              "      <td>আপোনালোকে বহিঃৰাইজত গৈ কি ভাষা মাতিবলগীয়া হয়...</td>\n",
              "      <td>1</td>\n",
              "    </tr>\n",
              "    <tr>\n",
              "      <th>3</th>\n",
              "      <td>অসমত কিমান জনে চাকৰি পাইছে।।যি কেইটামান ওলাই চ...</td>\n",
              "      <td>1</td>\n",
              "    </tr>\n",
              "    <tr>\n",
              "      <th>4</th>\n",
              "      <td>আমি যেতিয়া অসমীয়া মাধ্যমত শিক্ষা লৈছিলোঁ তেত...</td>\n",
              "      <td>1</td>\n",
              "    </tr>\n",
              "    <tr>\n",
              "      <th>...</th>\n",
              "      <td>...</td>\n",
              "      <td>...</td>\n",
              "    </tr>\n",
              "    <tr>\n",
              "      <th>131</th>\n",
              "      <td>।।। ঘেণ্টা!!!\\n তই সাধাৰণ VCD এখনৰ নৃত্য পৰিচা...</td>\n",
              "      <td>1</td>\n",
              "    </tr>\n",
              "    <tr>\n",
              "      <th>132</th>\n",
              "      <td>.নাৰীয়েই মেকআপ কৰিব লৰাই তো লিপষ্টিক কাজল লগাই...</td>\n",
              "      <td>1</td>\n",
              "    </tr>\n",
              "    <tr>\n",
              "      <th>133</th>\n",
              "      <td>তোমাৰ মা ও হয় তো প্রসাধনৰ নামত কিবা অলপ সালনিহ...</td>\n",
              "      <td>1</td>\n",
              "    </tr>\n",
              "    <tr>\n",
              "      <th>134</th>\n",
              "      <td>সিহঁত \"social servant\" হে। তাৰ বাহিৰে বেলেগ এক...</td>\n",
              "      <td>0</td>\n",
              "    </tr>\n",
              "    <tr>\n",
              "      <th>135</th>\n",
              "      <td>enjoy কৰিবি তহঁতি।তুৰ মতলব ভালকৈয়ে গম পালো।মত...</td>\n",
              "      <td>0</td>\n",
              "    </tr>\n",
              "  </tbody>\n",
              "</table>\n",
              "<p>134 rows × 2 columns</p>\n",
              "</div>\n",
              "    <div class=\"colab-df-buttons\">\n",
              "\n",
              "  <div class=\"colab-df-container\">\n",
              "    <button class=\"colab-df-convert\" onclick=\"convertToInteractive('df-260f6734-d79d-497e-8738-36895407aabc')\"\n",
              "            title=\"Convert this dataframe to an interactive table.\"\n",
              "            style=\"display:none;\">\n",
              "\n",
              "  <svg xmlns=\"http://www.w3.org/2000/svg\" height=\"24px\" viewBox=\"0 -960 960 960\">\n",
              "    <path d=\"M120-120v-720h720v720H120Zm60-500h600v-160H180v160Zm220 220h160v-160H400v160Zm0 220h160v-160H400v160ZM180-400h160v-160H180v160Zm440 0h160v-160H620v160ZM180-180h160v-160H180v160Zm440 0h160v-160H620v160Z\"/>\n",
              "  </svg>\n",
              "    </button>\n",
              "\n",
              "  <style>\n",
              "    .colab-df-container {\n",
              "      display:flex;\n",
              "      gap: 12px;\n",
              "    }\n",
              "\n",
              "    .colab-df-convert {\n",
              "      background-color: #E8F0FE;\n",
              "      border: none;\n",
              "      border-radius: 50%;\n",
              "      cursor: pointer;\n",
              "      display: none;\n",
              "      fill: #1967D2;\n",
              "      height: 32px;\n",
              "      padding: 0 0 0 0;\n",
              "      width: 32px;\n",
              "    }\n",
              "\n",
              "    .colab-df-convert:hover {\n",
              "      background-color: #E2EBFA;\n",
              "      box-shadow: 0px 1px 2px rgba(60, 64, 67, 0.3), 0px 1px 3px 1px rgba(60, 64, 67, 0.15);\n",
              "      fill: #174EA6;\n",
              "    }\n",
              "\n",
              "    .colab-df-buttons div {\n",
              "      margin-bottom: 4px;\n",
              "    }\n",
              "\n",
              "    [theme=dark] .colab-df-convert {\n",
              "      background-color: #3B4455;\n",
              "      fill: #D2E3FC;\n",
              "    }\n",
              "\n",
              "    [theme=dark] .colab-df-convert:hover {\n",
              "      background-color: #434B5C;\n",
              "      box-shadow: 0px 1px 3px 1px rgba(0, 0, 0, 0.15);\n",
              "      filter: drop-shadow(0px 1px 2px rgba(0, 0, 0, 0.3));\n",
              "      fill: #FFFFFF;\n",
              "    }\n",
              "  </style>\n",
              "\n",
              "    <script>\n",
              "      const buttonEl =\n",
              "        document.querySelector('#df-260f6734-d79d-497e-8738-36895407aabc button.colab-df-convert');\n",
              "      buttonEl.style.display =\n",
              "        google.colab.kernel.accessAllowed ? 'block' : 'none';\n",
              "\n",
              "      async function convertToInteractive(key) {\n",
              "        const element = document.querySelector('#df-260f6734-d79d-497e-8738-36895407aabc');\n",
              "        const dataTable =\n",
              "          await google.colab.kernel.invokeFunction('convertToInteractive',\n",
              "                                                    [key], {});\n",
              "        if (!dataTable) return;\n",
              "\n",
              "        const docLinkHtml = 'Like what you see? Visit the ' +\n",
              "          '<a target=\"_blank\" href=https://colab.research.google.com/notebooks/data_table.ipynb>data table notebook</a>'\n",
              "          + ' to learn more about interactive tables.';\n",
              "        element.innerHTML = '';\n",
              "        dataTable['output_type'] = 'display_data';\n",
              "        await google.colab.output.renderOutput(dataTable, element);\n",
              "        const docLink = document.createElement('div');\n",
              "        docLink.innerHTML = docLinkHtml;\n",
              "        element.appendChild(docLink);\n",
              "      }\n",
              "    </script>\n",
              "  </div>\n",
              "\n",
              "\n",
              "<div id=\"df-953d0d1c-9304-4299-a9f5-af5d07127ed8\">\n",
              "  <button class=\"colab-df-quickchart\" onclick=\"quickchart('df-953d0d1c-9304-4299-a9f5-af5d07127ed8')\"\n",
              "            title=\"Suggest charts\"\n",
              "            style=\"display:none;\">\n",
              "\n",
              "<svg xmlns=\"http://www.w3.org/2000/svg\" height=\"24px\"viewBox=\"0 0 24 24\"\n",
              "     width=\"24px\">\n",
              "    <g>\n",
              "        <path d=\"M19 3H5c-1.1 0-2 .9-2 2v14c0 1.1.9 2 2 2h14c1.1 0 2-.9 2-2V5c0-1.1-.9-2-2-2zM9 17H7v-7h2v7zm4 0h-2V7h2v10zm4 0h-2v-4h2v4z\"/>\n",
              "    </g>\n",
              "</svg>\n",
              "  </button>\n",
              "\n",
              "<style>\n",
              "  .colab-df-quickchart {\n",
              "      --bg-color: #E8F0FE;\n",
              "      --fill-color: #1967D2;\n",
              "      --hover-bg-color: #E2EBFA;\n",
              "      --hover-fill-color: #174EA6;\n",
              "      --disabled-fill-color: #AAA;\n",
              "      --disabled-bg-color: #DDD;\n",
              "  }\n",
              "\n",
              "  [theme=dark] .colab-df-quickchart {\n",
              "      --bg-color: #3B4455;\n",
              "      --fill-color: #D2E3FC;\n",
              "      --hover-bg-color: #434B5C;\n",
              "      --hover-fill-color: #FFFFFF;\n",
              "      --disabled-bg-color: #3B4455;\n",
              "      --disabled-fill-color: #666;\n",
              "  }\n",
              "\n",
              "  .colab-df-quickchart {\n",
              "    background-color: var(--bg-color);\n",
              "    border: none;\n",
              "    border-radius: 50%;\n",
              "    cursor: pointer;\n",
              "    display: none;\n",
              "    fill: var(--fill-color);\n",
              "    height: 32px;\n",
              "    padding: 0;\n",
              "    width: 32px;\n",
              "  }\n",
              "\n",
              "  .colab-df-quickchart:hover {\n",
              "    background-color: var(--hover-bg-color);\n",
              "    box-shadow: 0 1px 2px rgba(60, 64, 67, 0.3), 0 1px 3px 1px rgba(60, 64, 67, 0.15);\n",
              "    fill: var(--button-hover-fill-color);\n",
              "  }\n",
              "\n",
              "  .colab-df-quickchart-complete:disabled,\n",
              "  .colab-df-quickchart-complete:disabled:hover {\n",
              "    background-color: var(--disabled-bg-color);\n",
              "    fill: var(--disabled-fill-color);\n",
              "    box-shadow: none;\n",
              "  }\n",
              "\n",
              "  .colab-df-spinner {\n",
              "    border: 2px solid var(--fill-color);\n",
              "    border-color: transparent;\n",
              "    border-bottom-color: var(--fill-color);\n",
              "    animation:\n",
              "      spin 1s steps(1) infinite;\n",
              "  }\n",
              "\n",
              "  @keyframes spin {\n",
              "    0% {\n",
              "      border-color: transparent;\n",
              "      border-bottom-color: var(--fill-color);\n",
              "      border-left-color: var(--fill-color);\n",
              "    }\n",
              "    20% {\n",
              "      border-color: transparent;\n",
              "      border-left-color: var(--fill-color);\n",
              "      border-top-color: var(--fill-color);\n",
              "    }\n",
              "    30% {\n",
              "      border-color: transparent;\n",
              "      border-left-color: var(--fill-color);\n",
              "      border-top-color: var(--fill-color);\n",
              "      border-right-color: var(--fill-color);\n",
              "    }\n",
              "    40% {\n",
              "      border-color: transparent;\n",
              "      border-right-color: var(--fill-color);\n",
              "      border-top-color: var(--fill-color);\n",
              "    }\n",
              "    60% {\n",
              "      border-color: transparent;\n",
              "      border-right-color: var(--fill-color);\n",
              "    }\n",
              "    80% {\n",
              "      border-color: transparent;\n",
              "      border-right-color: var(--fill-color);\n",
              "      border-bottom-color: var(--fill-color);\n",
              "    }\n",
              "    90% {\n",
              "      border-color: transparent;\n",
              "      border-bottom-color: var(--fill-color);\n",
              "    }\n",
              "  }\n",
              "</style>\n",
              "\n",
              "  <script>\n",
              "    async function quickchart(key) {\n",
              "      const quickchartButtonEl =\n",
              "        document.querySelector('#' + key + ' button');\n",
              "      quickchartButtonEl.disabled = true;  // To prevent multiple clicks.\n",
              "      quickchartButtonEl.classList.add('colab-df-spinner');\n",
              "      try {\n",
              "        const charts = await google.colab.kernel.invokeFunction(\n",
              "            'suggestCharts', [key], {});\n",
              "      } catch (error) {\n",
              "        console.error('Error during call to suggestCharts:', error);\n",
              "      }\n",
              "      quickchartButtonEl.classList.remove('colab-df-spinner');\n",
              "      quickchartButtonEl.classList.add('colab-df-quickchart-complete');\n",
              "    }\n",
              "    (() => {\n",
              "      let quickchartButtonEl =\n",
              "        document.querySelector('#df-953d0d1c-9304-4299-a9f5-af5d07127ed8 button');\n",
              "      quickchartButtonEl.style.display =\n",
              "        google.colab.kernel.accessAllowed ? 'block' : 'none';\n",
              "    })();\n",
              "  </script>\n",
              "</div>\n",
              "\n",
              "  <div id=\"id_c3685efe-fc39-415d-a9ec-9f1a35734e65\">\n",
              "    <style>\n",
              "      .colab-df-generate {\n",
              "        background-color: #E8F0FE;\n",
              "        border: none;\n",
              "        border-radius: 50%;\n",
              "        cursor: pointer;\n",
              "        display: none;\n",
              "        fill: #1967D2;\n",
              "        height: 32px;\n",
              "        padding: 0 0 0 0;\n",
              "        width: 32px;\n",
              "      }\n",
              "\n",
              "      .colab-df-generate:hover {\n",
              "        background-color: #E2EBFA;\n",
              "        box-shadow: 0px 1px 2px rgba(60, 64, 67, 0.3), 0px 1px 3px 1px rgba(60, 64, 67, 0.15);\n",
              "        fill: #174EA6;\n",
              "      }\n",
              "\n",
              "      [theme=dark] .colab-df-generate {\n",
              "        background-color: #3B4455;\n",
              "        fill: #D2E3FC;\n",
              "      }\n",
              "\n",
              "      [theme=dark] .colab-df-generate:hover {\n",
              "        background-color: #434B5C;\n",
              "        box-shadow: 0px 1px 3px 1px rgba(0, 0, 0, 0.15);\n",
              "        filter: drop-shadow(0px 1px 2px rgba(0, 0, 0, 0.3));\n",
              "        fill: #FFFFFF;\n",
              "      }\n",
              "    </style>\n",
              "    <button class=\"colab-df-generate\" onclick=\"generateWithVariable('df')\"\n",
              "            title=\"Generate code using this dataframe.\"\n",
              "            style=\"display:none;\">\n",
              "\n",
              "  <svg xmlns=\"http://www.w3.org/2000/svg\" height=\"24px\"viewBox=\"0 0 24 24\"\n",
              "       width=\"24px\">\n",
              "    <path d=\"M7,19H8.4L18.45,9,17,7.55,7,17.6ZM5,21V16.75L18.45,3.32a2,2,0,0,1,2.83,0l1.4,1.43a1.91,1.91,0,0,1,.58,1.4,1.91,1.91,0,0,1-.58,1.4L9.25,21ZM18.45,9,17,7.55Zm-12,3A5.31,5.31,0,0,0,4.9,8.1,5.31,5.31,0,0,0,1,6.5,5.31,5.31,0,0,0,4.9,4.9,5.31,5.31,0,0,0,6.5,1,5.31,5.31,0,0,0,8.1,4.9,5.31,5.31,0,0,0,12,6.5,5.46,5.46,0,0,0,6.5,12Z\"/>\n",
              "  </svg>\n",
              "    </button>\n",
              "    <script>\n",
              "      (() => {\n",
              "      const buttonEl =\n",
              "        document.querySelector('#id_c3685efe-fc39-415d-a9ec-9f1a35734e65 button.colab-df-generate');\n",
              "      buttonEl.style.display =\n",
              "        google.colab.kernel.accessAllowed ? 'block' : 'none';\n",
              "\n",
              "      buttonEl.onclick = () => {\n",
              "        google.colab.notebook.generateWithVariable('df');\n",
              "      }\n",
              "      })();\n",
              "    </script>\n",
              "  </div>\n",
              "\n",
              "    </div>\n",
              "  </div>\n"
            ],
            "application/vnd.google.colaboratory.intrinsic+json": {
              "type": "dataframe",
              "variable_name": "df",
              "summary": "{\n  \"name\": \"df\",\n  \"rows\": 134,\n  \"fields\": [\n    {\n      \"column\": \"Text\",\n      \"properties\": {\n        \"dtype\": \"string\",\n        \"num_unique_values\": 105,\n        \"samples\": [\n          \"\\u09ae\\u09be\\u0995 \\u09ac\\u09be\\u09aa\\u09c7\\u0995\\u09f0 \\u0986\\u09a7\\u09c1\\u09a8\\u09bf\\u0995\\u09a4\\u09be\\u09a4 \\u09a1\\u09be\\u0999\\u09f0 \\u09a6\\u09c0\\u0998\\u09b2 \\u09b9\\u09cb\\u09f1\\u09be \\u098f\\u0987\\u09ac\\u09bf\\u09b2\\u09be\\u0995 \\u099b\\u09cb\\u09f1\\u09be\\u09b2\\u09c0, \\u09af\\u09be\\u09f0 \\u0995\\u09cb\\u09a8\\u09cb \\u09ae\\u09be\\u09a8 \\u09b8\\u09a8\\u09cd\\u09ae\\u09be\\u09a8 \\u09a8\\u09be\\u09a5\\u09be\\u0995\\u09c7...\",\n          \"\\u09a7\\u09f0\\u09cd\\u09ae\\u09a4 \\u09a8\\u09b9\\u09df \\u09ac\\u09be\\u0987\\u09a6\\u09c7\\u0989 \\u09ac\\u09b9\\u09c1\\u09a4\\u09f0 \\u09ae\\u09a4\\u09be \\u09b9\\u09be\\u09f0\\u09be\\u09ae\\u09f0 \\u09a8\\u09c7\\u0997\\u09c1\\u09f0 \\u09aa\\u09be\\u0987 \\ud83d\\ude0a ,\",\n          \"\\u0995\\u09c7\\u0987\\u099c\\u09a8\\u09c0\\u09df\\u09c7 \\u09b8\\u09c7\\u09a8\\u09cd\\u09a6\\u09c1\\u09f0 \\u09b2\\u09df\\u09a8\\u09cb, \\u0995\\u09c7\\u0987\\u099c\\u09a8\\u09c0\\u09df\\u09c7 \\u09ad\\u09f0\\u09bf\\u09a4 \\u09a7\\u09f0\\u09c7 ??\"\n        ],\n        \"semantic_type\": \"\",\n        \"description\": \"\"\n      }\n    },\n    {\n      \"column\": \"label\",\n      \"properties\": {\n        \"dtype\": \"category\",\n        \"num_unique_values\": 2,\n        \"samples\": [\n          \"0\",\n          \"1\"\n        ],\n        \"semantic_type\": \"\",\n        \"description\": \"\"\n      }\n    }\n  ]\n}"
            }
          },
          "metadata": {},
          "execution_count": 151
        }
      ]
    },
    {
      "cell_type": "code",
      "source": [
        "df.isnull().sum()\n"
      ],
      "metadata": {
        "colab": {
          "base_uri": "https://localhost:8080/"
        },
        "id": "XVYgK1xaJfhB",
        "outputId": "b5c209e2-c0b8-41ff-ebe6-2d9038e08310"
      },
      "execution_count": null,
      "outputs": [
        {
          "output_type": "execute_result",
          "data": {
            "text/plain": [
              "Text     0\n",
              "label    0\n",
              "dtype: int64"
            ]
          },
          "metadata": {},
          "execution_count": 152
        }
      ]
    },
    {
      "cell_type": "code",
      "source": [
        "\n",
        "df['label'].unique()\n",
        "\n",
        "\n",
        "\n"
      ],
      "metadata": {
        "colab": {
          "base_uri": "https://localhost:8080/"
        },
        "id": "2fNzCnvIN1Tt",
        "outputId": "62f2dc2f-3343-4f5c-eae5-620d03b9ec3b"
      },
      "execution_count": null,
      "outputs": [
        {
          "output_type": "execute_result",
          "data": {
            "text/plain": [
              "array(['1', '0'], dtype=object)"
            ]
          },
          "metadata": {},
          "execution_count": 153
        }
      ]
    },
    {
      "cell_type": "code",
      "source": [
        "df.shape"
      ],
      "metadata": {
        "colab": {
          "base_uri": "https://localhost:8080/"
        },
        "id": "TKamhMj8aL_Y",
        "outputId": "d7abb3e8-12c3-4c60-edc3-e4172a0cc6e0"
      },
      "execution_count": null,
      "outputs": [
        {
          "output_type": "execute_result",
          "data": {
            "text/plain": [
              "(134, 2)"
            ]
          },
          "metadata": {},
          "execution_count": 154
        }
      ]
    },
    {
      "cell_type": "code",
      "source": [
        "df.dtypes"
      ],
      "metadata": {
        "colab": {
          "base_uri": "https://localhost:8080/"
        },
        "id": "NlTskWYOaL8F",
        "outputId": "f46bf4e8-7f99-4ef8-ab32-011be613be2e"
      },
      "execution_count": null,
      "outputs": [
        {
          "output_type": "execute_result",
          "data": {
            "text/plain": [
              "Text     object\n",
              "label    object\n",
              "dtype: object"
            ]
          },
          "metadata": {},
          "execution_count": 155
        }
      ]
    },
    {
      "cell_type": "code",
      "source": [
        "df['label'] = df['label'].astype(int)"
      ],
      "metadata": {
        "id": "mpgF8gSJaL5l"
      },
      "execution_count": null,
      "outputs": []
    },
    {
      "cell_type": "code",
      "source": [
        "df.dtypes"
      ],
      "metadata": {
        "colab": {
          "base_uri": "https://localhost:8080/"
        },
        "id": "L4SXzMP_aL2x",
        "outputId": "bd35c031-63ac-4365-d5b4-cb92cc1037a3"
      },
      "execution_count": null,
      "outputs": [
        {
          "output_type": "execute_result",
          "data": {
            "text/plain": [
              "Text     object\n",
              "label     int64\n",
              "dtype: object"
            ]
          },
          "metadata": {},
          "execution_count": 157
        }
      ]
    },
    {
      "cell_type": "markdown",
      "source": [
        "## Tokenize and spliting the data"
      ],
      "metadata": {
        "id": "RfIDbakiuQUi"
      }
    },
    {
      "cell_type": "code",
      "source": [
        "# Tokenize using BERT tokenizer\n",
        "tokenizer = BertTokenizer.from_pretrained('bert-base-uncased')\n",
        "max_length = 128\n",
        "\n",
        "encoded_data = tokenizer.batch_encode_plus(\n",
        "    df['Text'].tolist(),\n",
        "    add_special_tokens=True,\n",
        "    return_attention_mask=True,\n",
        "    padding=True,\n",
        "    truncation=True,\n",
        "    max_length=max_length,\n",
        "    return_tensors='pt'\n",
        ")\n",
        "\n",
        "input_ids = encoded_data['input_ids']\n",
        "attention_masks = encoded_data['attention_mask']\n",
        "labels = torch.tensor(df['label'].tolist())\n",
        "\n",
        "# Split dataset into train, validation, and test sets\n",
        "train_texts, val_texts, train_labels, val_labels = train_test_split(\n",
        "    input_ids, labels, random_state=42, test_size=0.1)\n",
        "\n",
        "val_texts, test_texts, val_labels, test_labels = train_test_split(\n",
        "    val_texts, val_labels, random_state=42, test_size=0.5)"
      ],
      "metadata": {
        "id": "0NP74TjOaL0L"
      },
      "execution_count": null,
      "outputs": []
    },
    {
      "cell_type": "markdown",
      "source": [
        "## Load Dataloder"
      ],
      "metadata": {
        "id": "Gdap-iO6uYYI"
      }
    },
    {
      "cell_type": "code",
      "source": [
        "# Create TensorDatasets\n",
        "train_dataset = TensorDataset(train_texts, train_labels)\n",
        "val_dataset = TensorDataset(val_texts, val_labels)\n",
        "test_dataset = TensorDataset(test_texts, test_labels)\n",
        "\n",
        "# Create DataLoaders\n",
        "batch_size = 32\n",
        "\n",
        "train_dataloader = DataLoader(\n",
        "    train_dataset,\n",
        "    sampler=RandomSampler(train_dataset),\n",
        "    batch_size=batch_size\n",
        ")\n",
        "\n",
        "val_dataloader = DataLoader(\n",
        "    val_dataset,\n",
        "    sampler=SequentialSampler(val_dataset),\n",
        "    batch_size=batch_size\n",
        ")\n",
        "\n",
        "test_dataloader = DataLoader(\n",
        "    test_dataset,\n",
        "    sampler=SequentialSampler(test_dataset),\n",
        "    batch_size=batch_size\n",
        ")\n"
      ],
      "metadata": {
        "id": "kK3EuUR6aLx2"
      },
      "execution_count": null,
      "outputs": []
    },
    {
      "cell_type": "markdown",
      "source": [
        "## Loading the model"
      ],
      "metadata": {
        "id": "asEJUm6nubCM"
      }
    },
    {
      "cell_type": "code",
      "source": [
        "model = BertForSequenceClassification.from_pretrained(\n",
        "    'bert-base-uncased',\n",
        "    num_labels=2,\n",
        "    output_attentions=False,\n",
        "    output_hidden_states=False\n",
        ")\n",
        "\n",
        "device = torch.device(\"cuda\" if torch.cuda.is_available() else \"cpu\")\n",
        "model.to(device)\n"
      ],
      "metadata": {
        "colab": {
          "base_uri": "https://localhost:8080/"
        },
        "id": "N78mvIhoaLsK",
        "outputId": "0ac4bbcb-4a71-4b9c-c4c5-1d4b4f389087"
      },
      "execution_count": null,
      "outputs": [
        {
          "output_type": "stream",
          "name": "stderr",
          "text": [
            "Some weights of BertForSequenceClassification were not initialized from the model checkpoint at bert-base-uncased and are newly initialized: ['classifier.bias', 'classifier.weight']\n",
            "You should probably TRAIN this model on a down-stream task to be able to use it for predictions and inference.\n"
          ]
        },
        {
          "output_type": "execute_result",
          "data": {
            "text/plain": [
              "BertForSequenceClassification(\n",
              "  (bert): BertModel(\n",
              "    (embeddings): BertEmbeddings(\n",
              "      (word_embeddings): Embedding(30522, 768, padding_idx=0)\n",
              "      (position_embeddings): Embedding(512, 768)\n",
              "      (token_type_embeddings): Embedding(2, 768)\n",
              "      (LayerNorm): LayerNorm((768,), eps=1e-12, elementwise_affine=True)\n",
              "      (dropout): Dropout(p=0.1, inplace=False)\n",
              "    )\n",
              "    (encoder): BertEncoder(\n",
              "      (layer): ModuleList(\n",
              "        (0-11): 12 x BertLayer(\n",
              "          (attention): BertAttention(\n",
              "            (self): BertSelfAttention(\n",
              "              (query): Linear(in_features=768, out_features=768, bias=True)\n",
              "              (key): Linear(in_features=768, out_features=768, bias=True)\n",
              "              (value): Linear(in_features=768, out_features=768, bias=True)\n",
              "              (dropout): Dropout(p=0.1, inplace=False)\n",
              "            )\n",
              "            (output): BertSelfOutput(\n",
              "              (dense): Linear(in_features=768, out_features=768, bias=True)\n",
              "              (LayerNorm): LayerNorm((768,), eps=1e-12, elementwise_affine=True)\n",
              "              (dropout): Dropout(p=0.1, inplace=False)\n",
              "            )\n",
              "          )\n",
              "          (intermediate): BertIntermediate(\n",
              "            (dense): Linear(in_features=768, out_features=3072, bias=True)\n",
              "            (intermediate_act_fn): GELUActivation()\n",
              "          )\n",
              "          (output): BertOutput(\n",
              "            (dense): Linear(in_features=3072, out_features=768, bias=True)\n",
              "            (LayerNorm): LayerNorm((768,), eps=1e-12, elementwise_affine=True)\n",
              "            (dropout): Dropout(p=0.1, inplace=False)\n",
              "          )\n",
              "        )\n",
              "      )\n",
              "    )\n",
              "    (pooler): BertPooler(\n",
              "      (dense): Linear(in_features=768, out_features=768, bias=True)\n",
              "      (activation): Tanh()\n",
              "    )\n",
              "  )\n",
              "  (dropout): Dropout(p=0.1, inplace=False)\n",
              "  (classifier): Linear(in_features=768, out_features=2, bias=True)\n",
              ")"
            ]
          },
          "metadata": {},
          "execution_count": 161
        }
      ]
    },
    {
      "cell_type": "code",
      "source": [
        "optimizer = AdamW(model.parameters(), lr=2e-5, eps=1e-8)\n",
        "epochs = 4\n",
        "total_steps = len(train_dataloader) * epochs\n",
        "scheduler = get_linear_schedule_with_warmup(optimizer, num_warmup_steps=0, num_training_steps=total_steps)\n"
      ],
      "metadata": {
        "colab": {
          "base_uri": "https://localhost:8080/"
        },
        "id": "6bTa4F1RaLpv",
        "outputId": "97f82d76-7c9a-4b5d-aced-24795fefacf9"
      },
      "execution_count": null,
      "outputs": [
        {
          "output_type": "stream",
          "name": "stderr",
          "text": [
            "/usr/local/lib/python3.10/dist-packages/transformers/optimization.py:429: FutureWarning: This implementation of AdamW is deprecated and will be removed in a future version. Use the PyTorch implementation torch.optim.AdamW instead, or set `no_deprecation_warning=True` to disable this warning\n",
            "  warnings.warn(\n"
          ]
        }
      ]
    },
    {
      "cell_type": "code",
      "source": [
        "for batch in train_dataloader:\n",
        "    print(batch)\n"
      ],
      "metadata": {
        "colab": {
          "base_uri": "https://localhost:8080/"
        },
        "id": "L4-p_CRodHfp",
        "outputId": "eef56b23-5be7-45d3-fcf2-2354bf9f7fb3"
      },
      "execution_count": null,
      "outputs": [
        {
          "output_type": "stream",
          "name": "stdout",
          "text": [
            "[tensor([[  101,  1377, 29915,  ...,     0,     0,     0],\n",
            "        [  101,  1377, 29915,  ...,     0,     0,     0],\n",
            "        [  101,  1347, 29912,  ...,     0,     0,     0],\n",
            "        ...,\n",
            "        [  101,   100,  1370,  ...,     0,     0,     0],\n",
            "        [  101,   100,  1353,  ...,     0,     0,     0],\n",
            "        [  101,  1370, 29885,  ...,     0,     0,     0]]), tensor([1, 1, 1, 1, 1, 1, 0, 0, 0, 1, 0, 0, 0, 1, 0, 1, 0, 1, 0, 0, 1, 0, 1, 0,\n",
            "        0, 1, 1, 1, 1, 0, 0, 0])]\n",
            "[tensor([[  101,  1370, 29885,  ...,     0,     0,     0],\n",
            "        [  101,   100,   100,  ...,     0,     0,     0],\n",
            "        [  101,   100,  1364,  ...,     0,     0,     0],\n",
            "        ...,\n",
            "        [  101,  1366, 29914,  ...,     0,     0,     0],\n",
            "        [  101,   100,  1354,  ...,     0,     0,     0],\n",
            "        [  101,  1368, 29914,  ...,     0,     0,     0]]), tensor([0, 0, 1, 0, 1, 1, 1, 1, 1, 0, 0, 1, 1, 1, 1, 1, 1, 0, 0, 1, 1, 0, 1, 1,\n",
            "        1, 0, 0, 1, 1, 1, 1, 1])]\n",
            "[tensor([[  101,  1356, 29914,  ...,     0,     0,     0],\n",
            "        [  101,  1353, 29915,  ...,     0,     0,     0],\n",
            "        [  101,  1368, 29915,  ...,     0,     0,     0],\n",
            "        ...,\n",
            "        [  101,  1351, 29895,  ...,     0,     0,     0],\n",
            "        [  101,  1348, 29903,  ...,     0,     0,     0],\n",
            "        [  101,   100,   100,  ...,     0,     0,     0]]), tensor([1, 1, 1, 1, 1, 1, 0, 0, 1, 1, 1, 1, 1, 1, 0, 1, 0, 1, 1, 0, 1, 0, 1, 0,\n",
            "        1, 0, 1, 1, 1, 1, 1, 0])]\n",
            "[tensor([[ 101,  100, 1362,  ...,    0,    0,    0],\n",
            "        [ 101,  100,  100,  ...,    0,    0,    0],\n",
            "        [ 101,  100, 1351,  ...,    0,    0,    0],\n",
            "        ...,\n",
            "        [ 101,  100, 1354,  ...,    0,    0,    0],\n",
            "        [ 101,  100, 1356,  ...,    0,    0,    0],\n",
            "        [ 101,  100,  100,  ...,    0,    0,    0]]), tensor([1, 1, 0, 0, 1, 0, 1, 1, 0, 0, 0, 1, 1, 1, 1, 1, 1, 1, 1, 1, 0, 0, 0, 1])]\n"
          ]
        }
      ]
    },
    {
      "cell_type": "markdown",
      "source": [
        "## Training The Model"
      ],
      "metadata": {
        "id": "gy6uLudSufKR"
      }
    },
    {
      "cell_type": "code",
      "source": [
        "# Set the model to training mode\n",
        "model.train()\n",
        "\n",
        "# Loop through each epoch\n",
        "for epoch in range(epochs):\n",
        "    # Initialize variables for each epoch\n",
        "    total_train_loss = 0\n",
        "\n",
        "    # Loop through each batch in the training dataloader\n",
        "    for batch_input_ids, batch_labels in train_dataloader:\n",
        "        # Move the batch tensors to the GPU if available\n",
        "        batch_input_ids = batch_input_ids.to(device)\n",
        "        batch_labels = batch_labels.to(device)\n",
        "\n",
        "        # Clear any previously calculated gradients\n",
        "        model.zero_grad()\n",
        "\n",
        "        # Perform a forward pass (evaluate the model on this training batch)\n",
        "        outputs = model(input_ids=batch_input_ids, labels=batch_labels)\n",
        "\n",
        "        # Extract loss from the outputs\n",
        "        loss = outputs.loss\n",
        "\n",
        "        # Accumulate the training loss over all batches\n",
        "        total_train_loss += loss.item()\n",
        "\n",
        "        # Perform a backward pass to calculate gradients\n",
        "        loss.backward()\n",
        "\n",
        "        # Clip the norm of the gradients to prevent the exploding gradient problem\n",
        "        torch.nn.utils.clip_grad_norm_(model.parameters(), max_norm=1.0)\n",
        "\n",
        "        # Update parameters and take a step using the optimizer\n",
        "        optimizer.step()\n",
        "\n",
        "        # Update the learning rate scheduler\n",
        "        scheduler.step()\n",
        "\n",
        "    # Calculate the average training loss for this epoch\n",
        "    avg_train_loss = total_train_loss / len(train_dataloader)\n",
        "\n",
        "    # Print the average training loss for this epoch\n",
        "    print(f'Epoch {epoch + 1}/{epochs}, Average Training Loss: {avg_train_loss}')\n"
      ],
      "metadata": {
        "colab": {
          "base_uri": "https://localhost:8080/"
        },
        "id": "yLP_vddoaLMy",
        "outputId": "0257a90f-c96c-4971-f215-1ffc4e9cc5d7"
      },
      "execution_count": null,
      "outputs": [
        {
          "output_type": "stream",
          "name": "stdout",
          "text": [
            "Epoch 1/4, Average Training Loss: 0.6798426657915115\n",
            "Epoch 2/4, Average Training Loss: 0.6543384939432144\n",
            "Epoch 3/4, Average Training Loss: 0.6302207857370377\n",
            "Epoch 4/4, Average Training Loss: 0.6298208385705948\n"
          ]
        }
      ]
    },
    {
      "cell_type": "code",
      "source": [
        "from sklearn.metrics import precision_score, recall_score, f1_score\n"
      ],
      "metadata": {
        "id": "nPXjyczZeSV5"
      },
      "execution_count": null,
      "outputs": []
    },
    {
      "cell_type": "markdown",
      "source": [
        "## Evaluation of the model"
      ],
      "metadata": {
        "id": "IzH2S6fMuibI"
      }
    },
    {
      "cell_type": "code",
      "source": [
        "# Set the model to evaluation mode\n",
        "model.eval()\n",
        "\n",
        "# Initialize variables for evaluation\n",
        "total_eval_accuracy = 0\n",
        "total_eval_loss = 0\n",
        "nb_eval_steps = 0\n",
        "eval_predictions = []\n",
        "eval_labels = []\n",
        "\n",
        "# Evaluate data for each batch in validation dataloader\n",
        "for batch_input_ids, batch_labels in val_dataloader:\n",
        "    # Move the batch tensors to the GPU if available\n",
        "    batch_input_ids = batch_input_ids.to(device)\n",
        "    batch_labels = batch_labels.to(device)\n",
        "\n",
        "    # Disable gradient calculation\n",
        "    with torch.no_grad():\n",
        "        # Forward pass\n",
        "        outputs = model(input_ids=batch_input_ids, labels=batch_labels)\n",
        "        logits = outputs.logits\n",
        "\n",
        "    # Calculate loss\n",
        "    loss = outputs.loss\n",
        "    total_eval_loss += loss.item()\n",
        "\n",
        "    # Compute predictions and ground-truth labels\n",
        "    predictions = torch.argmax(logits, dim=1).flatten()\n",
        "    eval_predictions.extend(predictions.cpu().numpy())\n",
        "    eval_labels.extend(batch_labels.cpu().numpy())\n",
        "\n",
        "    # Calculate accuracy for this batch\n",
        "    accuracy = (predictions == batch_labels).cpu().numpy().mean()\n",
        "    total_eval_accuracy += accuracy\n",
        "\n",
        "    nb_eval_steps += 1\n",
        "\n",
        "# Calculate average evaluation metrics\n",
        "avg_eval_loss = total_eval_loss / nb_eval_steps\n",
        "avg_eval_accuracy = total_eval_accuracy / nb_eval_steps\n",
        "\n",
        "# Compute additional evaluation metrics (e.g., precision, recall, F1-score)\n",
        "eval_precision = precision_score(eval_labels, eval_predictions)\n",
        "eval_recall = recall_score(eval_labels, eval_predictions)\n",
        "eval_f1 = f1_score(eval_labels, eval_predictions)\n",
        "\n",
        "# Print evaluation metrics\n",
        "print(f'Validation Loss: {avg_eval_loss:.4f}')\n",
        "print(f'Validation Accuracy: {avg_eval_accuracy:.4f}')\n",
        "print(f'Validation Precision: {eval_precision:.4f}')\n",
        "print(f'Validation Recall: {eval_recall:.4f}')\n",
        "print(f'Validation F1-score: {eval_f1:.4f}')\n"
      ],
      "metadata": {
        "colab": {
          "base_uri": "https://localhost:8080/"
        },
        "id": "5EeHaMmnaLI3",
        "outputId": "e6c5670f-41a1-48be-b896-192525b4ee8d"
      },
      "execution_count": null,
      "outputs": [
        {
          "output_type": "stream",
          "name": "stdout",
          "text": [
            "Validation Loss: 0.7223\n",
            "Validation Accuracy: 0.5714\n",
            "Validation Precision: 0.5714\n",
            "Validation Recall: 1.0000\n",
            "Validation F1-score: 0.7273\n"
          ]
        }
      ]
    },
    {
      "cell_type": "markdown",
      "source": [
        "## Testing with new dataset"
      ],
      "metadata": {
        "id": "gbSOizjkulzZ"
      }
    },
    {
      "cell_type": "code",
      "source": [
        "import torch\n",
        "\n",
        "# New sentence to classify\n",
        "new_sentence = \"মই তেওঁলৈ পথ প্ৰদান কৰিলোঁ।\"  #I gave him the way.\n",
        "\n",
        "# Preprocess the new sentence\n",
        "inputs = tokenizer(new_sentence, return_tensors=\"pt\", padding=True, truncation=True)\n",
        "inputs.to(device)\n",
        "\n",
        "# Pass the preprocessed input to the model for inference\n",
        "with torch.no_grad():\n",
        "    outputs = model(**inputs)\n",
        "\n",
        "# Interpret the model's output to obtain predictions\n",
        "predicted_class_index = torch.argmax(outputs.logits, dim=1).item()\n",
        "\n",
        "# Print the predicted class label\n",
        "print(\"Predicted class label:\", predicted_class_index)\n"
      ],
      "metadata": {
        "colab": {
          "base_uri": "https://localhost:8080/"
        },
        "id": "HR0M7Mz5i7aO",
        "outputId": "b55a870c-d98c-4ab5-bc07-a074c7e0cb6f"
      },
      "execution_count": null,
      "outputs": [
        {
          "output_type": "stream",
          "name": "stdout",
          "text": [
            "Predicted class label: 1\n"
          ]
        }
      ]
    },
    {
      "cell_type": "code",
      "source": [
        "\n",
        "import torch\n",
        "\n",
        "# New sentence to classify\n",
        "new_sentence = \"মই তেওঁলৈ পথ প্ৰদান কৰিলোঁ।\"  #I provided him with directions.\n",
        "\n",
        "# Preprocess the new sentence\n",
        "inputs = tokenizer(new_sentence, return_tensors=\"pt\", padding=True, truncation=True)\n",
        "inputs.to(device)\n",
        "\n",
        "# Pass the preprocessed input to the model for inference\n",
        "with torch.no_grad():\n",
        "    outputs = model(**inputs)\n",
        "\n",
        "# Interpret the model's output to obtain predictions\n",
        "predicted_class_index = torch.argmax(outputs.logits, dim=1).item()\n",
        "\n",
        "# Print the predicted class label\n",
        "print(\"Predicted class label:\", predicted_class_index)\n"
      ],
      "metadata": {
        "colab": {
          "base_uri": "https://localhost:8080/"
        },
        "id": "gWQfxXcZj7n3",
        "outputId": "aac3e5e1-252d-472e-c63d-2c1ca6fddf33"
      },
      "execution_count": null,
      "outputs": [
        {
          "output_type": "stream",
          "name": "stdout",
          "text": [
            "Predicted class label: 1\n"
          ]
        }
      ]
    },
    {
      "cell_type": "code",
      "source": [
        "import torch\n",
        "\n",
        "# New sentence to classify\n",
        "new_sentence = \"মই তেওঁলৈ পথ প্ৰদান কৰিলোঁ।\"  #I gave him the way.\n",
        "\n",
        "# Preprocess the new sentence\n",
        "inputs = tokenizer(new_sentence, return_tensors=\"pt\", padding=True, truncation=True)\n",
        "inputs.to(device)\n",
        "\n",
        "# Pass the preprocessed input to the model for inference\n",
        "with torch.no_grad():\n",
        "    outputs = model(**inputs)\n",
        "\n",
        "# Interpret the model's output to obtain predictions\n",
        "predicted_class_index = torch.argmax(outputs.logits, dim=1).item()\n",
        "\n",
        "# Print the predicted class label\n",
        "print(\"Predicted class label:\", predicted_class_index)\n"
      ],
      "metadata": {
        "colab": {
          "base_uri": "https://localhost:8080/"
        },
        "id": "4ZwQ8TX7j7kg",
        "outputId": "0a62951a-3eb7-49ee-ae1f-6e37336b6374"
      },
      "execution_count": null,
      "outputs": [
        {
          "output_type": "stream",
          "name": "stdout",
          "text": [
            "Predicted class label: 1\n"
          ]
        }
      ]
    },
    {
      "cell_type": "code",
      "source": [
        "import torch\n",
        "\n",
        "# New sentence to classify\n",
        "new_sentence = \"সেই লোক বৰুষ ধৰ্মবিৰোধী।\"\n",
        "\n",
        "# Preprocess the new sentence\n",
        "inputs = tokenizer(new_sentence, return_tensors=\"pt\", padding=True, truncation=True)\n",
        "inputs.to(device)\n",
        "\n",
        "# Pass the preprocessed input to the model for inference\n",
        "with torch.no_grad():\n",
        "    outputs = model(**inputs)\n",
        "\n",
        "# Interpret the model's output to obtain predictions\n",
        "predicted_class_index = torch.argmax(outputs.logits, dim=1).item()\n",
        "\n",
        "# Print the predicted class label\n",
        "print(\"Predicted class label:\", predicted_class_index)\n"
      ],
      "metadata": {
        "colab": {
          "base_uri": "https://localhost:8080/"
        },
        "id": "mVZ6WkXij7ic",
        "outputId": "0c375e79-44ba-4e17-e7cd-ac4299ac28c3"
      },
      "execution_count": null,
      "outputs": [
        {
          "output_type": "stream",
          "name": "stdout",
          "text": [
            "Predicted class label: 1\n"
          ]
        }
      ]
    },
    {
      "cell_type": "code",
      "source": [
        "import pandas as pd\n",
        "import torch\n",
        "from transformers import BertTokenizer, BertForSequenceClassification, AdamW\n",
        "from torch.utils.data import TensorDataset, DataLoader, RandomSampler, SequentialSampler\n",
        "from sklearn.model_selection import train_test_split\n",
        "from sklearn.metrics import precision_score, recall_score, f1_score\n",
        "from keras.preprocessing.sequence import pad_sequences  # Import pad_sequences from Keras\n",
        "\n",
        "# Load the dataset\n",
        "#df = pd.read_csv(\"assamese_hate_speech_dataset.csv\")\n",
        "\n",
        "# Tokenize the text data using the Assamese tokenizer\n",
        "tokenizer = BertTokenizer.from_pretrained('bert-base-multilingual-cased')\n",
        "tokenized_texts = [tokenizer.tokenize(text) for text in df['Text']]\n",
        "\n",
        "# Set maximum sequence length\n",
        "max_len = 128\n",
        "\n",
        "# Pad sequences to maximum length using Keras pad_sequences\n",
        "input_ids = pad_sequences([tokenizer.convert_tokens_to_ids(tokens) for tokens in tokenized_texts],\n",
        "                          maxlen=max_len, dtype=\"long\", truncating=\"post\", padding=\"post\")\n",
        "\n",
        "# Create attention masks\n",
        "attention_masks = [[float(i > 0) for i in seq] for seq in input_ids]\n",
        "\n",
        "# Convert inputs and labels to PyTorch tensors\n",
        "inputs = torch.tensor(input_ids)\n",
        "masks = torch.tensor(attention_masks)\n",
        "labels = torch.tensor(df['label'].values)\n",
        "\n",
        "# Split the dataset into train and test sets\n",
        "train_inputs, test_inputs, train_masks, test_masks, train_labels, test_labels = train_test_split(inputs, masks, labels, test_size=0.2, random_state=42)\n",
        "\n",
        "# Create TensorDatasets\n",
        "train_dataset = TensorDataset(train_inputs, train_masks, train_labels)\n",
        "test_dataset = TensorDataset(test_inputs, test_masks, test_labels)\n",
        "\n",
        "# Define batch size and create DataLoaders\n",
        "batch_size = 32\n",
        "train_dataloader = DataLoader(train_dataset, sampler=RandomSampler(train_dataset), batch_size=batch_size)\n",
        "test_dataloader = DataLoader(test_dataset, sampler=SequentialSampler(test_dataset), batch_size=batch_size)\n",
        "\n",
        "# Load pre-trained BERT model\n",
        "model = BertForSequenceClassification.from_pretrained('bert-base-multilingual-cased', num_labels=2)\n",
        "\n",
        "# Define optimizer and learning rate scheduler\n",
        "optimizer = AdamW(model.parameters(), lr=2e-5, eps=1e-8)\n",
        "\n",
        "# Training loop\n",
        "epochs = 4\n",
        "device = torch.device('cuda' if torch.cuda.is_available() else 'cpu')\n",
        "model.to(device)\n",
        "model.train()\n",
        "\n",
        "for epoch in range(epochs):\n",
        "    for batch in train_dataloader:\n",
        "        batch_input_ids, batch_masks, batch_labels = batch\n",
        "        batch_input_ids, batch_masks, batch_labels = batch_input_ids.to(device), batch_masks.to(device), batch_labels.to(device)\n",
        "        model.zero_grad()\n",
        "        outputs = model(input_ids=batch_input_ids, attention_mask=batch_masks, labels=batch_labels)\n",
        "        loss = outputs.loss\n",
        "        loss.backward()\n",
        "        optimizer.step()\n",
        "\n",
        "# Model evaluation\n",
        "model.eval()\n",
        "total_eval_loss = 0\n",
        "eval_predictions = []\n",
        "eval_labels = []\n",
        "\n",
        "for batch_input_ids, batch_masks, batch_labels in test_dataloader:\n",
        "    batch_input_ids, batch_masks, batch_labels = batch_input_ids.to(device), batch_masks.to(device), batch_labels.to(device)\n",
        "    with torch.no_grad():\n",
        "        outputs = model(input_ids=batch_input_ids, attention_mask=batch_masks, labels=batch_labels)\n",
        "        logits = outputs.logits\n",
        "    loss = outputs.loss\n",
        "    total_eval_loss += loss.item()\n",
        "    predictions = torch.argmax(logits, dim=1).flatten()\n",
        "    eval_predictions.extend(predictions.cpu().numpy())\n",
        "    eval_labels.extend(batch_labels.cpu().numpy())\n",
        "\n",
        "# Compute evaluation metrics\n",
        "avg_eval_loss = total_eval_loss / len(test_dataloader)\n",
        "eval_precision = precision_score(eval_labels, eval_predictions)\n",
        "eval_recall = recall_score(eval_labels, eval_predictions)\n",
        "eval_f1 = f1_score(eval_labels, eval_predictions)\n",
        "\n",
        "# Print evaluation metrics\n",
        "print(f'Validation Loss: {avg_eval_loss:.4f}')\n",
        "print(f'Validation Precision: {eval_precision:.4f}')\n",
        "print(f'Validation Recall: {eval_recall:.4f}')\n",
        "print(f'Validation F1-score: {eval_f1:.4f}')\n"
      ],
      "metadata": {
        "colab": {
          "base_uri": "https://localhost:8080/",
          "height": 208,
          "referenced_widgets": [
            "fdf379a24e004fa3bdbda9891d9fed56",
            "6c9f4e402bdd4c46b7434d557c227af2",
            "8f05e7115f0548be9ebeb045d9fe6c0c",
            "7e525d05148648619013df74380a9c07",
            "d24f99a2e53f47aea584dde0853cf77e",
            "23aea5da0e5544eaa793730220e8213c",
            "e95dc5a6e6d441dea680fa0b04e91ee9",
            "622a5cf22095453fa4936da13c99abef",
            "e3697c48d6fb4d698f4af9f3ebb0f4d1",
            "d3eb4de8832f4f8aadd2231d8f36a16a",
            "f95f0f0ae8584ad0b5163167e5d5249f"
          ]
        },
        "id": "8xJy1otvmzNA",
        "outputId": "fa70e48c-2352-4192-9ded-5db25d5ceada"
      },
      "execution_count": null,
      "outputs": [
        {
          "output_type": "display_data",
          "data": {
            "text/plain": [
              "model.safetensors:   0%|          | 0.00/714M [00:00<?, ?B/s]"
            ],
            "application/vnd.jupyter.widget-view+json": {
              "version_major": 2,
              "version_minor": 0,
              "model_id": "fdf379a24e004fa3bdbda9891d9fed56"
            }
          },
          "metadata": {}
        },
        {
          "output_type": "stream",
          "name": "stderr",
          "text": [
            "Some weights of BertForSequenceClassification were not initialized from the model checkpoint at bert-base-multilingual-cased and are newly initialized: ['classifier.bias', 'classifier.weight']\n",
            "You should probably TRAIN this model on a down-stream task to be able to use it for predictions and inference.\n",
            "/usr/local/lib/python3.10/dist-packages/transformers/optimization.py:429: FutureWarning: This implementation of AdamW is deprecated and will be removed in a future version. Use the PyTorch implementation torch.optim.AdamW instead, or set `no_deprecation_warning=True` to disable this warning\n",
            "  warnings.warn(\n"
          ]
        },
        {
          "output_type": "stream",
          "name": "stdout",
          "text": [
            "Validation Loss: 0.5874\n",
            "Validation Precision: 0.7407\n",
            "Validation Recall: 1.0000\n",
            "Validation F1-score: 0.8511\n"
          ]
        }
      ]
    },
    {
      "cell_type": "code",
      "source": [],
      "metadata": {
        "id": "V8rP04UgpUv3"
      },
      "execution_count": null,
      "outputs": []
    }
  ]
}